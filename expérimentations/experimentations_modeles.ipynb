{
 "cells": [
  {
   "cell_type": "markdown",
   "metadata": {},
   "source": [
    "# Présentation générale de notebook"
   ]
  },
  {
   "cell_type": "markdown",
   "metadata": {},
   "source": [
    "Il s'agit d'un notebook de script d'expérimentations des différents modèles avec mlflow.\n",
    "\n",
    "on procède plusieurs étapes :\n",
    "1) courte analyse exploratoire des données afin de vérifier qu'elles correspondent bien aux besoins\n",
    "2) pré traitement des données (très couteux en temps, les prétraitements sont enregistrés dans des fichiers afin d'économiser le temps de pré-traitements à faire)\n",
    "3) préparations des données afin qu'elles soient exploitables par les différents modèles\n",
    "4) Entraînements et tracking des modèles avec mlflow"
   ]
  },
  {
   "cell_type": "markdown",
   "metadata": {},
   "source": [
    "# 1 - Importation"
   ]
  },
  {
   "cell_type": "code",
   "execution_count": 1,
   "metadata": {},
   "outputs": [
    {
     "name": "stdout",
     "output_type": "stream",
     "text": [
      "WARNING:tensorflow:From c:\\Python312\\Lib\\site-packages\\tf_keras\\src\\losses.py:2976: The name tf.losses.sparse_softmax_cross_entropy is deprecated. Please use tf.compat.v1.losses.sparse_softmax_cross_entropy instead.\n",
      "\n"
     ]
    }
   ],
   "source": [
    "import os\n",
    "import pandas as pd\n",
    "import matplotlib.pyplot as plt\n",
    "import matplotlib.patches as mpatches\n",
    "import seaborn as sns\n",
    "from pathlib import Path\n",
    "from typing import Dict\n",
    "import numpy as np\n",
    "\n",
    "\n",
    "# Pour les extractions de features textuelles\n",
    "import re\n",
    "import spacy\n",
    "from nltk.corpus import stopwords\n",
    "from nltk.tokenize import word_tokenize\n",
    "from nltk.stem import SnowballStemmer\n",
    "from sklearn.feature_extraction.text import CountVectorizer, TfidfVectorizer\n",
    "\n",
    "# Charger le modèle spaCy pour l'anglais\n",
    "nlp = spacy.load('en_core_web_sm')\n",
    "\n",
    "# MFLow\n",
    "import mlflow\n",
    "\n",
    "# pour les entraînements des modèles et scoring\n",
    "from sklearn.model_selection import train_test_split, StratifiedKFold, GridSearchCV\n",
    "from sklearn.metrics import roc_curve, auc, accuracy_score\n",
    "\n",
    "# Les modèles\n",
    "from sklearn.linear_model import LogisticRegression\n",
    "from sklearn.ensemble import RandomForestClassifier, GradientBoostingClassifier\n",
    "from gensim.models import Word2Vec\n",
    "\n",
    "from sklearn.base import BaseEstimator, TransformerMixin\n",
    "from sklearn.pipeline import Pipeline\n",
    "\n",
    "from gensim.models import FastText\n",
    "from transformers import BertTokenizer, BertForSequenceClassification\n",
    "import tensorflow as tf\n",
    "\n",
    "from transformers import TrainingArguments, Trainer\n",
    "\n",
    "from datasets import Dataset\n",
    "from accelerate import Accelerator\n"
   ]
  },
  {
   "cell_type": "markdown",
   "metadata": {},
   "source": [
    "# 2 - Paramétrages"
   ]
  },
  {
   "cell_type": "code",
   "execution_count": 2,
   "metadata": {},
   "outputs": [
    {
     "data": {
      "text/plain": [
       "<Experiment: artifact_location='mlflow-artifacts:/778457007112658367', creation_time=1729533984650, experiment_id='778457007112658367', last_update_time=1729533984650, lifecycle_stage='active', name='Sentiment_classification_v9', tags={}>"
      ]
     },
     "execution_count": 2,
     "metadata": {},
     "output_type": "execute_result"
    }
   ],
   "source": [
    "os.environ[\"OMP_NUM_THREADS\"] = \"12\"  # Nombre de threads pour le CPU\n",
    "mlflow.autolog(disable=True)\n",
    "mlflow.set_tracking_uri(uri=\"http://127.0.0.1:8080\")\n",
    "mlflow.set_experiment(\"Sentiment_classification_v9\")"
   ]
  },
  {
   "cell_type": "markdown",
   "metadata": {},
   "source": [
    "# 3 - Fonctions"
   ]
  },
  {
   "cell_type": "markdown",
   "metadata": {},
   "source": [
    "## 3-1 - fonction générique"
   ]
  },
  {
   "cell_type": "code",
   "execution_count": 3,
   "metadata": {},
   "outputs": [],
   "source": [
    "def perc_fill_rate(datas: pd.DataFrame)-> float:\n",
    "    \"\"\"Calculer le taux de remplissage\n",
    "    \n",
    "    Parameters:\n",
    "    datas: Dataframe dont le taux de remplissage est à calculer\n",
    "\n",
    "    Returns:\n",
    "    float: taux de remplissage calculé\n",
    "    \"\"\"\n",
    "\n",
    "    return 100 - datas.isna().sum() / len(datas) * 100\n",
    "\n",
    "def make_title(texte:str):\n",
    "    \"\"\"Ecrit tout simplement un ###### texte #####\n",
    "    Cette fonction a été crée pour éviter de répéter les mêmes écritures de print\n",
    "\n",
    "    Parameters:\n",
    "    texte -- Texte à afficher\n",
    "    \"\"\"\n",
    "\n",
    "    print(\"\\n###### \" + texte + \" ######\\n\")\n",
    "\n",
    "def make_plot_dtypes(datas:pd.DataFrame):\n",
    "    \"\"\"Crée un camembert de répartition de types utilisés de la dataframe\n",
    "    \n",
    "    Parameters:\n",
    "    datas: Dataframe dont on veut calculer la répartition des types utilisées\n",
    "    \"\"\"\n",
    "\n",
    "    print(datas.dtypes.value_counts())\n",
    "    plt.figure(figsize=(10,5))\n",
    "    plt.pie(datas.dtypes.value_counts().values,autopct=\"%1.2f%%\",labels=[str(types) for types in datas.dtypes.value_counts().index])\n",
    "    plt.title(\"Répartition des types dans le jeu de données.\")\n",
    "    plt.ylabel(\"Type des données\")\n",
    "    plt.legend()\n",
    "    plt.show()\n",
    "\n",
    "def make_perc_missing_values_info(datas:pd.DataFrame, perc_missing_values_threshold: int = 50) -> sns.barplot:\n",
    "    \"\"\"Fonction qui affiche un diagramme en barres contenant le taux de remplissage pour chaque variable de la dataframe\n",
    "    \n",
    "    Parameters:\n",
    "    datas: Dataframe dont on désire afficher le taux de remplissage sous forme d'un diagramme en barres\n",
    "    perc_missing_values_threshold: Le seuil du pourcentage qui indique si une variable est exploitable ou non (par défaut : 50)\n",
    "    \n",
    "    Returns:\n",
    "    sns.barplot: contient l'objet de barplot\n",
    "    \"\"\"\n",
    "\n",
    "    # Calcul du taux de remplissage\n",
    "    perc_fill_rate_datas = perc_fill_rate(datas)\n",
    "    perc_fill_rate_datas = perc_fill_rate_datas.sort_values(ascending=False)\n",
    "\n",
    "    # Définition de la palette de couleurs en fonction du taux de remplissage\n",
    "    palette = [\"red\" if p < perc_missing_values_threshold else \"orange\" if p < 100 else \"green\" for p in perc_fill_rate_datas.values]\n",
    "\n",
    "    display(perc_fill_rate_datas.index)\n",
    "    display(perc_fill_rate_datas.values)\n",
    "\n",
    "    # Création d'un grpahique à barres pour le taux de remplissage\n",
    "    plt.figure(figsize=(25,5))\n",
    "    sns.barplot(x=perc_fill_rate_datas.index, y=perc_fill_rate_datas.values, hue=perc_fill_rate_datas.index, palette=palette)\n",
    "    plt.ylabel(\"Taux de remplissage\")\n",
    "    plt.xlabel(\"Variables\")\n",
    "    plt.xticks(rotation=90)\n",
    "    plt.title(\"Taux de remplissage du fichier\")\n",
    "\n",
    "    # Mise en place d'une ligne rouge marquant le seuil décidé %\n",
    "    line_seuil = plt.axhline(y=perc_missing_values_threshold, color=\"red\", linestyle=\"--\", label=\"seuil \" + str(perc_missing_values_threshold) + \"%\")\n",
    "\n",
    "    # Création et paramétrage des légendes à afficher\n",
    "    red_patch = mpatches.Patch(color=\"red\", label=\"< \" + str(perc_missing_values_threshold) + \"%\")\n",
    "    orange_patch = mpatches.Patch(color=\"orange\", label= \"\" + str(perc_missing_values_threshold) + \"-]100%\")\n",
    "    green_patch = mpatches.Patch(color='green', label='100%')\n",
    "    plt.legend(handles=[line_seuil, red_patch, orange_patch, green_patch], title='Taux de remplissage', loc='upper right')\n",
    "    plt.show()\n",
    "\n",
    "    # Afficher une dataframe sur le taux de remplissage des variables\n",
    "    var_with_missing_values = perc_fill_rate_datas.loc[perc_fill_rate_datas < 100].to_frame()\n",
    "    var_with_missing_values = var_with_missing_values.reset_index()\n",
    "    var_with_missing_values = var_with_missing_values.rename(columns={\"index\": \"Variable\", 0: \"% Taux remplissage\"})\n",
    "    display(var_with_missing_values)\n",
    "\n",
    "def analyse_outlier(df: pd.DataFrame):\n",
    "    \"\"\"Analyse affiche un boxplot de chaque variable numérique afin d'analyser les outliers\n",
    "    \n",
    "    Parameters:\n",
    "    df: la dataframe dont on veut analyser les outliers\n",
    "    \"\"\"\n",
    "\n",
    "    # Ne sélectionner que les variables numériques\n",
    "    quantitatives = df.select_dtypes(include=[\"number\"])\n",
    "\n",
    "    make_title(\"Statistiques descriptives\")\n",
    "    display(quantitatives.describe())\n",
    "\n",
    "    # Afficher les boxplots de chaque variable\n",
    "    nb_var = len(quantitatives.columns)\n",
    "    nb_cols = 5\n",
    "    nb_rows = int(nb_var/nb_cols) + 1\n",
    "    fig, axes = plt.subplots(nb_rows, nb_cols, figsize=(25, nb_rows * 5))\n",
    "    for i, var in enumerate(quantitatives.columns):\n",
    "        if nb_rows > 1:\n",
    "            ax = axes[i // nb_cols, i % nb_cols]\n",
    "        else:\n",
    "            ax = axes[i % nb_cols]\n",
    "        sns.boxplot(x=quantitatives[var], ax=ax)\n",
    "\n",
    "    # Supprime les emplacements non utilisés\n",
    "    for i in range(nb_var, nb_rows * nb_cols):\n",
    "        fig.delaxes(axes.flatten()[i])\n",
    "\n",
    "    make_title(\"Boxplots des variables\")\n",
    "    plt.show()\n",
    "    \n",
    "def analyse_exploratoire_generique(datas: pd.DataFrame, perc_missing_values_threshold: int = 50, nb_index: int = 1):\n",
    "    \"\"\"Effectue une analyse exploratoire générique\n",
    "\n",
    "    Parameters:\n",
    "    datas: la dataframe sur laquelle on veut effectuer une analyse exploratoire générique\n",
    "    perc_missing_values_threshold: Le seuil du pourcentage de valeur manquant qui indique si une variable est exploitable ou non (par défaut: 50)\n",
    "    nb_index: index de début d'analyse de doublons, utilisé pour analyser les doublons en dehors des index\n",
    "    \"\"\"\n",
    "\n",
    "    # Présenter les informations générales\n",
    "    make_title(\"Informations générales\")\n",
    "    datas.info()\n",
    "\n",
    "    # Afficher la répartition des types dans le jeu de données\n",
    "    make_title(\"Répartition des types dans le dataset\")\n",
    "    make_plot_dtypes(datas)\n",
    "\n",
    "\n",
    "    # Afficher les 5 premières et derniè_res lignes du DataFrame\n",
    "    make_title(\"Les 5 premières et dernières lignes\")\n",
    "    head = datas.head()\n",
    "    tail = datas.tail()\n",
    "    display(head, tail)\n",
    "\n",
    "    # Afficher le nombre de valeurs uniques\n",
    "    make_title(\"Nombre de valeurs uniques\")\n",
    "    display(datas.nunique().to_frame().T)\n",
    "\n",
    "    # Afficher le nombre des doublons génériques\n",
    "    make_title(\"Doublons génériques (toutes les variables sont utilisées)\")\n",
    "    display(datas.duplicated().sum())\n",
    "\n",
    "    # Afficher le nombre des doublons sans l'index\n",
    "    make_title(\"Doublons sans l'index\")\n",
    "    display(datas[datas.columns[nb_index:]].duplicated().sum())\n",
    "\n",
    "    # Afficher les informations sur le taux de remplissage \n",
    "    make_title(\"Informations du taux de remplissage\")\n",
    "    make_perc_missing_values_info(datas, perc_missing_values_threshold)\n",
    "\n",
    "    # Afficher les analyses des variables numériques \n",
    "    analyse_outlier(datas)\n",
    "\n",
    "\n"
   ]
  },
  {
   "cell_type": "markdown",
   "metadata": {},
   "source": [
    "## 3-2 - Fonctions prétraitement de texte"
   ]
  },
  {
   "cell_type": "code",
   "execution_count": 4,
   "metadata": {},
   "outputs": [],
   "source": [
    "def preprocess_text(text:str, norm:str = \"lemming\")->str:\n",
    "    \"\"\"Prétraiter un texte avec les traitements suivants :\n",
    "    - convertir toutes les lettres en miniscules\n",
    "    - Suppression des poncutations et des caractères spéciaux\n",
    "    - Tokenization\n",
    "    - Suppression des mots vides\n",
    "    - Lemmatisation\n",
    "    - Suppression des mots inférieur à 3 lettres\n",
    "\n",
    "    Parameters:\n",
    "    text: Le texte à prétraiter\n",
    "    norm: \"lemming\" ou \"stemming\" : choix de la normalisation de texte \n",
    "\n",
    "    Return:\n",
    "    Le texte pré-traité\n",
    "    \"\"\"\n",
    "\n",
    "    # Conversion en minuscules\n",
    "    text = text.lower()\n",
    "    \n",
    "    # Suppression des ponctuations et des caractères spéciaux\n",
    "    text = re.sub(r'[^\\w\\s]', '', text)\n",
    "    text = re.sub(r'\\d+', '', text)\n",
    "    \n",
    "    # Tokenization\n",
    "    tokens = word_tokenize(text)\n",
    "    \n",
    "    # Suppression des mots vides\n",
    "    stop_words = set(stopwords.words('english'))\n",
    "    tokens = [word for word in tokens if word not in stop_words]\n",
    "\n",
    "    # Normalisation avec lemmatization ou stemming\n",
    "    if norm == \"lemming\" :\n",
    "        doc = nlp(' '.join(tokens))\n",
    "        tokens = [token.lemma_ for token in doc]\n",
    "    elif norm == \"stemming\":\n",
    "        stemmer = SnowballStemmer(\"english\")\n",
    "        tokens = [stemmer.stem(token) for token in tokens]     \n",
    "    else:\n",
    "        print(\"la normalisation sélectionné n'est pas prise en charge\")\n",
    "\n",
    "    # Suppression des mots courts\n",
    "    tokens = [word for word in tokens if len(word) > 3]\n",
    "\n",
    "    # Remise en forme\n",
    "    cleaned_text = ' '.join(tokens)\n",
    "    \n",
    "    return cleaned_text"
   ]
  },
  {
   "cell_type": "markdown",
   "metadata": {},
   "source": [
    "## 3-3 Training and tracking models"
   ]
  },
  {
   "cell_type": "code",
   "execution_count": 5,
   "metadata": {},
   "outputs": [],
   "source": [
    "def compute_metrics(pred):\n",
    "    \"\"\"\n",
    "    Calculer l'accuracy pour le Trainer\n",
    "\n",
    "    pred: les prédictions produits par Trainer\n",
    "    \"\"\"\n",
    "\n",
    "    labels = pred.label_ids\n",
    "    preds = pred.predictions.argmax(-1)\n",
    "    acc = accuracy_score(labels, preds)\n",
    "\n",
    "    return {'accuracy': acc}"
   ]
  },
  {
   "cell_type": "code",
   "execution_count": 6,
   "metadata": {},
   "outputs": [],
   "source": [
    "def track_model_training(model:object, datas:Dict, params:Dict, model_type:str, run_name:str, vectorizer=None):\n",
    "    \"\"\" \n",
    "    Exécute l'entraînement des modèles avec GridSearchCv et enregistre les résultats, le meilleur modèle est stocké, les résultats sont stockés dans un serveur mlflow\n",
    "    Il est nécessaire que mlflow soit lancé et configuré\n",
    "\n",
    "    Variables:\n",
    "    model: le modèle choisi\n",
    "\n",
    "    datas: le dataset text et target\n",
    "\n",
    "    model_type: le type de modèle afin que la fonction puisse utiliser les démarches adéquante\n",
    "        type de modèle pris en charge \n",
    "            => sklearn\n",
    "\n",
    "    params: Dictionnaire de paramètres à utiliser pour GridSearchCv\n",
    "\n",
    "    run_name: nom du run de mlflow\n",
    "\n",
    "    vectorizer: le vectorizer entraîné\n",
    "        si type modèle est de sklearn, deux vectorizer pris en charge :\n",
    "            => SimpleCount pour un bag of words de simpleCount\n",
    "            => TDIDF pour un bag of words de TDIDF\n",
    "    \"\"\"\n",
    "\n",
    "    # Vérifier si le run n'existe pas, sinon, on ne refait pas les entraînements\n",
    "    existing_runs = mlflow.search_runs(filter_string=f'tag.mlflow.runName=\"{run_name}\"')\n",
    "    if len(existing_runs) == 0:\n",
    "\n",
    "        # Si le modèle est de type sklearn\n",
    "        if model_type == \"sklearn\":\n",
    "\n",
    "                # Préparer l'entrainement cross validation\n",
    "                cv = StratifiedKFold(n_splits=5, shuffle=True, random_state=42)\n",
    "                scoring = {\"accuracy\": \"accuracy\", \"roc_auc\": \"roc_auc\"}\n",
    "\n",
    "                # Démarrer l'entraînement et stocker les résultats dans results\n",
    "                grid_search = GridSearchCV(estimator=model, param_grid=params, cv=cv, scoring=scoring, refit=\"accuracy\", n_jobs=5, return_train_score=False)\n",
    "                grid_search.fit(datas[\"X_train\"], datas[\"y_train\"])\n",
    "                results = grid_search.cv_results_\n",
    "                    \n",
    "                # Démarrer le tracking et enregistrement du meilleur modèle\n",
    "                with mlflow.start_run(run_name=run_name):\n",
    "                    for idx, params in enumerate(results[\"params\"]):\n",
    "                        with mlflow.start_run(nested=True):\n",
    "\n",
    "                            # tagger le nom de run\n",
    "                            mlflow.set_tag(\"run_name\", run_name)\n",
    "                            \n",
    "                            # Stocker le nom du modèle et ses paramètres\n",
    "                            mlflow.log_param(\"model\", type(model).__name__)\n",
    "                            mlflow.log_params(params)\n",
    "\n",
    "                            # Stocker les métriques\n",
    "                            mlflow.log_metric(\"mean_fit_time\", results[\"mean_fit_time\"][idx])\n",
    "                            mlflow.log_metric(\"mean_score_time\", results[\"mean_score_time\"][idx])\n",
    "                            mlflow.log_metric(\"mean_test_accuracy\", results[\"mean_test_accuracy\"][idx])\n",
    "                            mlflow.log_metric(\"mean_test_roc_auc\", results[\"mean_test_roc_auc\"][idx])\n",
    "\n",
    "                            # Récupérer le meilleur modèle\n",
    "                            if idx == grid_search.best_index_:\n",
    "\n",
    "                                # Stocker le meilleur modèle ainsi que le vectorizer associé\n",
    "                                mlflow.sklearn.log_model(grid_search.best_estimator_, \"best_model\")\n",
    "                                if vectorizer:\n",
    "                                    mlflow.sklearn.log_model(vectorizer, \"vectorizer\")\n",
    "\n",
    "                                # Etablir et enregistrer la courbe ROC-AUC\n",
    "                                y_pred_proba = grid_search.best_estimator_.predict_proba(datas[\"X_train\"])[:, 1]\n",
    "                                fpr, tpr, _ = roc_curve(datas[\"y_train\"], y_pred_proba)\n",
    "                                roc_auc = auc(fpr, tpr)\n",
    "                                plt.figure()\n",
    "                                plt.plot(fpr, tpr, color=\"darkorange\", lw=2, label=f\"ROC curve (area = {roc_auc:.2f})\")\n",
    "                                plt.plot([0, 1], [0, 1], color=\"navy\", lw=2, linestyle=\"--\")\n",
    "                                plt.xlabel(\"Taux faux positif\")\n",
    "                                plt.ylabel(\"Taux vrai positif\")\n",
    "                                plt.title(\"ROC\")\n",
    "                                plt.legend(loc=\"lower right\")\n",
    "                                mlflow.log_figure(plt.gcf(), \"roc_curve.png\")\n",
    "                                plt.close()\n",
    "\n",
    "        elif model_type == \"fine_tuning_bert\":\n",
    "            \n",
    "            model_to_use = BertForSequenceClassification.from_pretrained(params[\"model_name\"], num_labels=2, ignore_mismatched_sizes=True)\n",
    "            tokenizer = BertTokenizer.from_pretrained(params[\"model_name\"])\n",
    "\n",
    "            # Stocker les résultats\n",
    "            results = []\n",
    "\n",
    "            # Configurer la validation croisée\n",
    "            skf = StratifiedKFold(n_splits=3, shuffle=True, random_state=42)\n",
    "\n",
    "            # Variables pour suivre le meilleur modèle\n",
    "            best_mean_accuracy = 0\n",
    "            best_hyperparams = {}\n",
    "\n",
    "            # Boucle sur les combinaisons d'hyperparamètres\n",
    "            for lr in params[\"learning_rates\"]:\n",
    "                for bs in params[\"batch_sizes\"]:\n",
    "                    fold_accuracies = []\n",
    "\n",
    "                    # Boucle pour chaque split de la validation croisée\n",
    "                    X_train = datas[\"X_train\"]\n",
    "                    for train_index, val_index in skf.split(X_train, datas[\"y_train\"]):\n",
    "                        # Créer les jeux de données pour cette fold\n",
    "                        train_encoding = tokenizer(X_train.iloc[train_index].tolist(), padding=\"max_length\", truncation=True, max_length=250)\n",
    "                        val_encoding = tokenizer(X_train.iloc[val_index].tolist(), padding=\"max_length\", truncation=True, max_length=250)\n",
    "\n",
    "                        train_dataset = Dataset.from_dict({\n",
    "                            \"input_ids\": train_encoding[\"input_ids\"],\n",
    "                            \"attention_mask\": train_encoding[\"attention_mask\"],\n",
    "                            \"labels\": datas[\"y_train\"].iloc[train_index]\n",
    "                        })\n",
    "\n",
    "                        val_dataset = Dataset.from_dict({\n",
    "                            \"input_ids\": val_encoding[\"input_ids\"],\n",
    "                            \"attention_mask\": val_encoding[\"attention_mask\"],\n",
    "                            \"labels\": datas[\"y_train\"].iloc[val_index]\n",
    "                        })\n",
    "\n",
    "                        # Arguments d'entraînement\n",
    "                        training_args = TrainingArguments(\n",
    "                            output_dir=\"./results\",\n",
    "                            eval_strategy=\"epoch\",\n",
    "                            learning_rate=lr,\n",
    "                            per_device_train_batch_size=bs,\n",
    "                            per_device_eval_batch_size=bs,\n",
    "                            num_train_epochs=params[\"num_epochs\"],\n",
    "                            weight_decay=0.01,\n",
    "                            fp16=True,\n",
    "                            logging_steps=10,\n",
    "                            report_to=\"none\"\n",
    "                        )\n",
    "\n",
    "                        # Créer le Trainer\n",
    "                        trainer = Trainer(\n",
    "                            model=model_to_use,\n",
    "                            args=training_args,\n",
    "                            train_dataset=train_dataset,\n",
    "                            eval_dataset=val_dataset,\n",
    "                            compute_metrics=compute_metrics,\n",
    "                        )\n",
    "\n",
    "                        # Entraîner le modèle\n",
    "                        trainer.train()\n",
    "\n",
    "                        # Évaluer le modèle\n",
    "                        eval_results = trainer.evaluate()\n",
    "                        accuracy = eval_results['eval_accuracy']\n",
    "                        fold_accuracies.append(accuracy)\n",
    "\n",
    "                    # Calculer l'accuracy moyenne pour cette combinaison d'hyperparamètres\n",
    "                    mean_accuracy = np.mean(fold_accuracies)\n",
    "\n",
    "                    # Stocker les résultats\n",
    "                    results.append((lr, bs, mean_accuracy))\n",
    "\n",
    "                    # Vérifier si c'est le meilleur modèle\n",
    "                    if mean_accuracy > best_mean_accuracy:\n",
    "                        best_mean_accuracy = mean_accuracy\n",
    "                        best_hyperparams = {\n",
    "                            \"learning_rate\": lr,\n",
    "                            \"batch_size\": bs,\n",
    "                            \"num_epochs\": params[\"num_epochs\"],\n",
    "                        }\n",
    "\n",
    "            # Enregistrer tous les résultats et le meilleur modèle dans MLflow\n",
    "            with mlflow.start_run(run_name=run_name):\n",
    "                    for lr, bs, mean_accuracy in results:\n",
    "                        with mlflow.start_run(nested=True):\n",
    "                            mlflow.log_param(\"learning_rate\", lr)\n",
    "                            mlflow.log_param(\"batch_size\", bs)\n",
    "                            mlflow.log_param(\"num_epochs\", params[\"num_epochs\"])\n",
    "                            mlflow.log_metric(\"mean_test_accuracy\", mean_accuracy)\n",
    "\n",
    "                    # Enregistrer le meilleur modèle\n",
    "                    mlflow.log_param(\"best_learning_rate\", best_hyperparams[\"learning_rate\"])\n",
    "                    mlflow.log_param(\"best_batch_size\", best_hyperparams[\"batch_size\"])\n",
    "                    mlflow.log_param(\"best_num_epochs\", best_hyperparams[\"num_epochs\"])\n",
    "\n",
    "                    output_dir = \"./best_model\"\n",
    "                    model_to_use.save_pretrained(output_dir)\n",
    "                    tokenizer.save_pretrained(output_dir)\n",
    "\n",
    "        else:\n",
    "            print(\"le type de modèle spécifié n'est pas supporté\")\n",
    "            "
   ]
  },
  {
   "cell_type": "markdown",
   "metadata": {},
   "source": [
    "# 4 - Classes"
   ]
  },
  {
   "cell_type": "markdown",
   "metadata": {},
   "source": [
    "Ce sont des classes personnalisées sur mesure pour qu'elles puissent être intégrées à la pipeline sklearn"
   ]
  },
  {
   "cell_type": "code",
   "execution_count": 7,
   "metadata": {},
   "outputs": [],
   "source": [
    "class Word2VecTransformer(BaseEstimator, TransformerMixin):\n",
    "    def __init__(self, vector_size=100, window=5, min_count=1, workers=4, epochs=5):\n",
    "        self.vector_size = vector_size\n",
    "        self.window = window\n",
    "        self.min_count = min_count\n",
    "        self.workers = workers\n",
    "        self.epochs = epochs\n",
    "        self.model = None\n",
    "\n",
    "    # entraînement\n",
    "    def fit(self, X, y=None):\n",
    "        self.model = Word2Vec(sentences=X, vector_size=self.vector_size, window=self.window, \n",
    "                              min_count=self.min_count, workers=self.workers)\n",
    "        self.model.train(X, total_examples=len(X), epochs=self.epochs)\n",
    "        return self\n",
    "\n",
    "    def transform(self, X):\n",
    "        return np.array([np.mean([self.model.wv[word] for word in doc if word in self.model.wv], axis=0) for doc in X])"
   ]
  },
  {
   "cell_type": "code",
   "execution_count": 8,
   "metadata": {},
   "outputs": [],
   "source": [
    "class FastTextTransformer(BaseEstimator, TransformerMixin):\n",
    "    def __init__(self, vector_size=100, window=5, min_count=1, workers=4, epochs=5):\n",
    "        self.vector_size = vector_size\n",
    "        self.window = window\n",
    "        self.min_count = min_count\n",
    "        self.workers = workers\n",
    "        self.epochs = epochs\n",
    "        self.model = None\n",
    "\n",
    "    # Entraînement\n",
    "    def fit(self, X, y=None):\n",
    "        self.model = FastText(sentences=X, vector_size=self.vector_size, window=self.window, \n",
    "                              min_count=self.min_count, workers=self.workers)\n",
    "        self.model.train(X, total_examples=len(X), epochs=self.epochs)\n",
    "        return self\n",
    "\n",
    "    def transform(self, X):\n",
    "        return np.array([np.mean([self.model.wv[word] for word in doc if word in self.model.wv], axis=0) for doc in X])"
   ]
  },
  {
   "cell_type": "markdown",
   "metadata": {},
   "source": [
    "En raison de la complexité du fonctionnement Bert qui est assez différent par rapport à Word2Vec et FastText, cette classe n'est pas utilisée avec gridsearchcv"
   ]
  },
  {
   "cell_type": "code",
   "execution_count": 9,
   "metadata": {},
   "outputs": [],
   "source": [
    "class BertTransformer(BaseEstimator, TransformerMixin):\n",
    "    # Initialisation\n",
    "    def __init__(self, model_name='bert-base-uncased'):\n",
    "        self.model_name = model_name\n",
    "        self.tokenizer = BertTokenizer.from_pretrained(self.model_name)\n",
    "        self.model = BertForSequenceClassification.from_pretrained(self.model_name)\n",
    "\n",
    "    # prédiction sur une seule phrase\n",
    "    def predict_one_sentence(self, inputs):\n",
    "        outputs = self.model(inputs)\n",
    "        logits = outputs.logits\n",
    "\n",
    "        # Obtenir les probabilités\n",
    "        probabilities = tf.nn.softmax(logits, axis=-1)\n",
    "        prediction = tf.argmax(probabilities, axis=1).numpy()[0]\n",
    "    \n",
    "        return prediction\n",
    "\n",
    "    def binaire_classifier(self, prediction):\n",
    "        \n",
    "        if self.model_name == \"nlptown/bert-base-multilingual-uncased-sentiment\":\n",
    "            if prediction in [0, 1, 2]:  # Classes 0 et 1 (très négatif ou négatif)\n",
    "                binary_prediction = 0  # Négatif\n",
    "            elif prediction in [3, 4]:  # Classes 3 et 4 (positif ou très positif)\n",
    "                binary_prediction = 1  # Positif\n",
    "        else:\n",
    "            binary_prediction = prediction\n",
    "\n",
    "        return binary_prediction\n",
    "    \n",
    "    def predict(self, datas):\n",
    "        tokenized_datas = datas.apply(lambda x: self.tokenizer(x, return_tensors=\"tf\"))\n",
    "        predictions = tokenized_datas.apply(lambda x: self.binaire_classifier(self.predict_one_sentence(x)))\n",
    "\n",
    "        return predictions"
   ]
  },
  {
   "cell_type": "markdown",
   "metadata": {},
   "source": [
    "# 4 - Analyse exploratoire"
   ]
  },
  {
   "cell_type": "code",
   "execution_count": 10,
   "metadata": {},
   "outputs": [],
   "source": [
    "# Sélection des variables du dataset\n",
    "col_names = [\"target\", \"ids\", \"date\", \"flag\", \"user\", \"text\"]\n",
    "\n",
    "# Définition du nom et d'ordre des variables\n",
    "wanted_empl_col_names = [\"ids\", \"date\", \"user\", \"text\", \"flag\", \"target\"]\n",
    "\n",
    "# Lecture et construction du dataset\n",
    "datas = pd.read_csv(\"training.1600000.processed.noemoticon.csv\", header=None, names=col_names)\n",
    "datas = datas[wanted_empl_col_names]"
   ]
  },
  {
   "cell_type": "code",
   "execution_count": 11,
   "metadata": {},
   "outputs": [
    {
     "name": "stdout",
     "output_type": "stream",
     "text": [
      "\n",
      "###### Informations générales ######\n",
      "\n",
      "<class 'pandas.core.frame.DataFrame'>\n",
      "RangeIndex: 1600000 entries, 0 to 1599999\n",
      "Data columns (total 6 columns):\n",
      " #   Column  Non-Null Count    Dtype \n",
      "---  ------  --------------    ----- \n",
      " 0   ids     1600000 non-null  int64 \n",
      " 1   date    1600000 non-null  object\n",
      " 2   user    1600000 non-null  object\n",
      " 3   text    1600000 non-null  object\n",
      " 4   flag    1600000 non-null  object\n",
      " 5   target  1600000 non-null  int64 \n",
      "dtypes: int64(2), object(4)\n",
      "memory usage: 73.2+ MB\n",
      "\n",
      "###### Répartition des types dans le dataset ######\n",
      "\n",
      "object    4\n",
      "int64     2\n",
      "Name: count, dtype: int64\n"
     ]
    },
    {
     "data": {
      "image/png": "[encoded data removed]",
      "text/plain": [
       "<Figure size 1000x500 with 1 Axes>"
      ]
     },
     "metadata": {},
     "output_type": "display_data"
    },
    {
     "name": "stdout",
     "output_type": "stream",
     "text": [
      "\n",
      "###### Les 5 premières et dernières lignes ######\n",
      "\n"
     ]
    },
    {
     "data": {
      "text/html": [
       "<div>\n",
       "<style scoped>\n",
       "    .dataframe tbody tr th:only-of-type {\n",
       "        vertical-align: middle;\n",
       "    }\n",
       "\n",
       "    .dataframe tbody tr th {\n",
       "        vertical-align: top;\n",
       "    }\n",
       "\n",
       "    .dataframe thead th {\n",
       "        text-align: right;\n",
       "    }\n",
       "</style>\n",
       "<table border=\"1\" class=\"dataframe\">\n",
       "  <thead>\n",
       "    <tr style=\"text-align: right;\">\n",
       "      <th></th>\n",
       "      <th>ids</th>\n",
       "      <th>date</th>\n",
       "      <th>user</th>\n",
       "      <th>text</th>\n",
       "      <th>flag</th>\n",
       "      <th>target</th>\n",
       "    </tr>\n",
       "  </thead>\n",
       "  <tbody>\n",
       "    <tr>\n",
       "      <th>0</th>\n",
       "      <td>1467810369</td>\n",
       "      <td>Mon Apr 06 22:19:45 PDT 2009</td>\n",
       "      <td>_TheSpecialOne_</td>\n",
       "      <td>@switchfoot http://twitpic.com/2y1zl - Awww, t...</td>\n",
       "      <td>NO_QUERY</td>\n",
       "      <td>0</td>\n",
       "    </tr>\n",
       "    <tr>\n",
       "      <th>1</th>\n",
       "      <td>1467810672</td>\n",
       "      <td>Mon Apr 06 22:19:49 PDT 2009</td>\n",
       "      <td>scotthamilton</td>\n",
       "      <td>is upset that he can't update his Facebook by ...</td>\n",
       "      <td>NO_QUERY</td>\n",
       "      <td>0</td>\n",
       "    </tr>\n",
       "    <tr>\n",
       "      <th>2</th>\n",
       "      <td>1467810917</td>\n",
       "      <td>Mon Apr 06 22:19:53 PDT 2009</td>\n",
       "      <td>mattycus</td>\n",
       "      <td>@Kenichan I dived many times for the ball. Man...</td>\n",
       "      <td>NO_QUERY</td>\n",
       "      <td>0</td>\n",
       "    </tr>\n",
       "    <tr>\n",
       "      <th>3</th>\n",
       "      <td>1467811184</td>\n",
       "      <td>Mon Apr 06 22:19:57 PDT 2009</td>\n",
       "      <td>ElleCTF</td>\n",
       "      <td>my whole body feels itchy and like its on fire</td>\n",
       "      <td>NO_QUERY</td>\n",
       "      <td>0</td>\n",
       "    </tr>\n",
       "    <tr>\n",
       "      <th>4</th>\n",
       "      <td>1467811193</td>\n",
       "      <td>Mon Apr 06 22:19:57 PDT 2009</td>\n",
       "      <td>Karoli</td>\n",
       "      <td>@nationwideclass no, it's not behaving at all....</td>\n",
       "      <td>NO_QUERY</td>\n",
       "      <td>0</td>\n",
       "    </tr>\n",
       "  </tbody>\n",
       "</table>\n",
       "</div>"
      ],
      "text/plain": [
       "          ids                          date             user  \\\n",
       "0  1467810369  Mon Apr 06 22:19:45 PDT 2009  _TheSpecialOne_   \n",
       "1  1467810672  Mon Apr 06 22:19:49 PDT 2009    scotthamilton   \n",
       "2  1467810917  Mon Apr 06 22:19:53 PDT 2009         mattycus   \n",
       "3  1467811184  Mon Apr 06 22:19:57 PDT 2009          ElleCTF   \n",
       "4  1467811193  Mon Apr 06 22:19:57 PDT 2009           Karoli   \n",
       "\n",
       "                                                text      flag  target  \n",
       "0  @switchfoot http://twitpic.com/2y1zl - Awww, t...  NO_QUERY       0  \n",
       "1  is upset that he can't update his Facebook by ...  NO_QUERY       0  \n",
       "2  @Kenichan I dived many times for the ball. Man...  NO_QUERY       0  \n",
       "3    my whole body feels itchy and like its on fire   NO_QUERY       0  \n",
       "4  @nationwideclass no, it's not behaving at all....  NO_QUERY       0  "
      ]
     },
     "metadata": {},
     "output_type": "display_data"
    },
    {
     "data": {
      "text/html": [
       "<div>\n",
       "<style scoped>\n",
       "    .dataframe tbody tr th:only-of-type {\n",
       "        vertical-align: middle;\n",
       "    }\n",
       "\n",
       "    .dataframe tbody tr th {\n",
       "        vertical-align: top;\n",
       "    }\n",
       "\n",
       "    .dataframe thead th {\n",
       "        text-align: right;\n",
       "    }\n",
       "</style>\n",
       "<table border=\"1\" class=\"dataframe\">\n",
       "  <thead>\n",
       "    <tr style=\"text-align: right;\">\n",
       "      <th></th>\n",
       "      <th>ids</th>\n",
       "      <th>date</th>\n",
       "      <th>user</th>\n",
       "      <th>text</th>\n",
       "      <th>flag</th>\n",
       "      <th>target</th>\n",
       "    </tr>\n",
       "  </thead>\n",
       "  <tbody>\n",
       "    <tr>\n",
       "      <th>1599995</th>\n",
       "      <td>2193601966</td>\n",
       "      <td>Tue Jun 16 08:40:49 PDT 2009</td>\n",
       "      <td>AmandaMarie1028</td>\n",
       "      <td>Just woke up. Having no school is the best fee...</td>\n",
       "      <td>NO_QUERY</td>\n",
       "      <td>4</td>\n",
       "    </tr>\n",
       "    <tr>\n",
       "      <th>1599996</th>\n",
       "      <td>2193601969</td>\n",
       "      <td>Tue Jun 16 08:40:49 PDT 2009</td>\n",
       "      <td>TheWDBoards</td>\n",
       "      <td>TheWDB.com - Very cool to hear old Walt interv...</td>\n",
       "      <td>NO_QUERY</td>\n",
       "      <td>4</td>\n",
       "    </tr>\n",
       "    <tr>\n",
       "      <th>1599997</th>\n",
       "      <td>2193601991</td>\n",
       "      <td>Tue Jun 16 08:40:49 PDT 2009</td>\n",
       "      <td>bpbabe</td>\n",
       "      <td>Are you ready for your MoJo Makeover? Ask me f...</td>\n",
       "      <td>NO_QUERY</td>\n",
       "      <td>4</td>\n",
       "    </tr>\n",
       "    <tr>\n",
       "      <th>1599998</th>\n",
       "      <td>2193602064</td>\n",
       "      <td>Tue Jun 16 08:40:49 PDT 2009</td>\n",
       "      <td>tinydiamondz</td>\n",
       "      <td>Happy 38th Birthday to my boo of alll time!!! ...</td>\n",
       "      <td>NO_QUERY</td>\n",
       "      <td>4</td>\n",
       "    </tr>\n",
       "    <tr>\n",
       "      <th>1599999</th>\n",
       "      <td>2193602129</td>\n",
       "      <td>Tue Jun 16 08:40:50 PDT 2009</td>\n",
       "      <td>RyanTrevMorris</td>\n",
       "      <td>happy #charitytuesday @theNSPCC @SparksCharity...</td>\n",
       "      <td>NO_QUERY</td>\n",
       "      <td>4</td>\n",
       "    </tr>\n",
       "  </tbody>\n",
       "</table>\n",
       "</div>"
      ],
      "text/plain": [
       "                ids                          date             user  \\\n",
       "1599995  2193601966  Tue Jun 16 08:40:49 PDT 2009  AmandaMarie1028   \n",
       "1599996  2193601969  Tue Jun 16 08:40:49 PDT 2009      TheWDBoards   \n",
       "1599997  2193601991  Tue Jun 16 08:40:49 PDT 2009           bpbabe   \n",
       "1599998  2193602064  Tue Jun 16 08:40:49 PDT 2009     tinydiamondz   \n",
       "1599999  2193602129  Tue Jun 16 08:40:50 PDT 2009   RyanTrevMorris   \n",
       "\n",
       "                                                      text      flag  target  \n",
       "1599995  Just woke up. Having no school is the best fee...  NO_QUERY       4  \n",
       "1599996  TheWDB.com - Very cool to hear old Walt interv...  NO_QUERY       4  \n",
       "1599997  Are you ready for your MoJo Makeover? Ask me f...  NO_QUERY       4  \n",
       "1599998  Happy 38th Birthday to my boo of alll time!!! ...  NO_QUERY       4  \n",
       "1599999  happy #charitytuesday @theNSPCC @SparksCharity...  NO_QUERY       4  "
      ]
     },
     "metadata": {},
     "output_type": "display_data"
    },
    {
     "name": "stdout",
     "output_type": "stream",
     "text": [
      "\n",
      "###### Nombre de valeurs uniques ######\n",
      "\n"
     ]
    },
    {
     "data": {
      "text/html": [
       "<div>\n",
       "<style scoped>\n",
       "    .dataframe tbody tr th:only-of-type {\n",
       "        vertical-align: middle;\n",
       "    }\n",
       "\n",
       "    .dataframe tbody tr th {\n",
       "        vertical-align: top;\n",
       "    }\n",
       "\n",
       "    .dataframe thead th {\n",
       "        text-align: right;\n",
       "    }\n",
       "</style>\n",
       "<table border=\"1\" class=\"dataframe\">\n",
       "  <thead>\n",
       "    <tr style=\"text-align: right;\">\n",
       "      <th></th>\n",
       "      <th>ids</th>\n",
       "      <th>date</th>\n",
       "      <th>user</th>\n",
       "      <th>text</th>\n",
       "      <th>flag</th>\n",
       "      <th>target</th>\n",
       "    </tr>\n",
       "  </thead>\n",
       "  <tbody>\n",
       "    <tr>\n",
       "      <th>0</th>\n",
       "      <td>1598315</td>\n",
       "      <td>774363</td>\n",
       "      <td>659775</td>\n",
       "      <td>1581466</td>\n",
       "      <td>1</td>\n",
       "      <td>2</td>\n",
       "    </tr>\n",
       "  </tbody>\n",
       "</table>\n",
       "</div>"
      ],
      "text/plain": [
       "       ids    date    user     text  flag  target\n",
       "0  1598315  774363  659775  1581466     1       2"
      ]
     },
     "metadata": {},
     "output_type": "display_data"
    },
    {
     "name": "stdout",
     "output_type": "stream",
     "text": [
      "\n",
      "###### Doublons génériques (toutes les variables sont utilisées) ######\n",
      "\n"
     ]
    },
    {
     "data": {
      "text/plain": [
       "0"
      ]
     },
     "metadata": {},
     "output_type": "display_data"
    },
    {
     "name": "stdout",
     "output_type": "stream",
     "text": [
      "\n",
      "###### Doublons sans l'index ######\n",
      "\n"
     ]
    },
    {
     "data": {
      "text/plain": [
       "188"
      ]
     },
     "metadata": {},
     "output_type": "display_data"
    },
    {
     "name": "stdout",
     "output_type": "stream",
     "text": [
      "\n",
      "###### Informations du taux de remplissage ######\n",
      "\n"
     ]
    },
    {
     "data": {
      "text/plain": [
       "Index(['ids', 'date', 'user', 'text', 'flag', 'target'], dtype='object')"
      ]
     },
     "metadata": {},
     "output_type": "display_data"
    },
    {
     "data": {
      "text/plain": [
       "array([100., 100., 100., 100., 100., 100.])"
      ]
     },
     "metadata": {},
     "output_type": "display_data"
    },
    {
     "data": {
      "image/png": "[encoded data removed]",
      "text/plain": [
       "<Figure size 2500x500 with 1 Axes>"
      ]
     },
     "metadata": {},
     "output_type": "display_data"
    },
    {
     "data": {
      "text/html": [
       "<div>\n",
       "<style scoped>\n",
       "    .dataframe tbody tr th:only-of-type {\n",
       "        vertical-align: middle;\n",
       "    }\n",
       "\n",
       "    .dataframe tbody tr th {\n",
       "        vertical-align: top;\n",
       "    }\n",
       "\n",
       "    .dataframe thead th {\n",
       "        text-align: right;\n",
       "    }\n",
       "</style>\n",
       "<table border=\"1\" class=\"dataframe\">\n",
       "  <thead>\n",
       "    <tr style=\"text-align: right;\">\n",
       "      <th></th>\n",
       "      <th>Variable</th>\n",
       "      <th>% Taux remplissage</th>\n",
       "    </tr>\n",
       "  </thead>\n",
       "  <tbody>\n",
       "  </tbody>\n",
       "</table>\n",
       "</div>"
      ],
      "text/plain": [
       "Empty DataFrame\n",
       "Columns: [Variable, % Taux remplissage]\n",
       "Index: []"
      ]
     },
     "metadata": {},
     "output_type": "display_data"
    },
    {
     "name": "stdout",
     "output_type": "stream",
     "text": [
      "\n",
      "###### Statistiques descriptives ######\n",
      "\n"
     ]
    },
    {
     "data": {
      "text/html": [
       "<div>\n",
       "<style scoped>\n",
       "    .dataframe tbody tr th:only-of-type {\n",
       "        vertical-align: middle;\n",
       "    }\n",
       "\n",
       "    .dataframe tbody tr th {\n",
       "        vertical-align: top;\n",
       "    }\n",
       "\n",
       "    .dataframe thead th {\n",
       "        text-align: right;\n",
       "    }\n",
       "</style>\n",
       "<table border=\"1\" class=\"dataframe\">\n",
       "  <thead>\n",
       "    <tr style=\"text-align: right;\">\n",
       "      <th></th>\n",
       "      <th>ids</th>\n",
       "      <th>target</th>\n",
       "    </tr>\n",
       "  </thead>\n",
       "  <tbody>\n",
       "    <tr>\n",
       "      <th>count</th>\n",
       "      <td>1.600000e+06</td>\n",
       "      <td>1.600000e+06</td>\n",
       "    </tr>\n",
       "    <tr>\n",
       "      <th>mean</th>\n",
       "      <td>1.998818e+09</td>\n",
       "      <td>2.000000e+00</td>\n",
       "    </tr>\n",
       "    <tr>\n",
       "      <th>std</th>\n",
       "      <td>1.935761e+08</td>\n",
       "      <td>2.000001e+00</td>\n",
       "    </tr>\n",
       "    <tr>\n",
       "      <th>min</th>\n",
       "      <td>1.467810e+09</td>\n",
       "      <td>0.000000e+00</td>\n",
       "    </tr>\n",
       "    <tr>\n",
       "      <th>25%</th>\n",
       "      <td>1.956916e+09</td>\n",
       "      <td>0.000000e+00</td>\n",
       "    </tr>\n",
       "    <tr>\n",
       "      <th>50%</th>\n",
       "      <td>2.002102e+09</td>\n",
       "      <td>2.000000e+00</td>\n",
       "    </tr>\n",
       "    <tr>\n",
       "      <th>75%</th>\n",
       "      <td>2.177059e+09</td>\n",
       "      <td>4.000000e+00</td>\n",
       "    </tr>\n",
       "    <tr>\n",
       "      <th>max</th>\n",
       "      <td>2.329206e+09</td>\n",
       "      <td>4.000000e+00</td>\n",
       "    </tr>\n",
       "  </tbody>\n",
       "</table>\n",
       "</div>"
      ],
      "text/plain": [
       "                ids        target\n",
       "count  1.600000e+06  1.600000e+06\n",
       "mean   1.998818e+09  2.000000e+00\n",
       "std    1.935761e+08  2.000001e+00\n",
       "min    1.467810e+09  0.000000e+00\n",
       "25%    1.956916e+09  0.000000e+00\n",
       "50%    2.002102e+09  2.000000e+00\n",
       "75%    2.177059e+09  4.000000e+00\n",
       "max    2.329206e+09  4.000000e+00"
      ]
     },
     "metadata": {},
     "output_type": "display_data"
    },
    {
     "name": "stdout",
     "output_type": "stream",
     "text": [
      "\n",
      "###### Boxplots des variables ######\n",
      "\n"
     ]
    },
    {
     "data": {
      "image/png": "[encoded data removed]",
      "text/plain": [
       "<Figure size 2500x500 with 2 Axes>"
      ]
     },
     "metadata": {},
     "output_type": "display_data"
    }
   ],
   "source": [
    "# Démarrer l'analyse exploratoire générique\n",
    "analyse_exploratoire_generique(datas)"
   ]
  },
  {
   "cell_type": "markdown",
   "metadata": {},
   "source": [
    "# 5 - Traitements simples"
   ]
  },
  {
   "cell_type": "markdown",
   "metadata": {},
   "source": [
    "On définit les constantes des targets afin que ce soit uniforme dans tout le notebook"
   ]
  },
  {
   "cell_type": "code",
   "execution_count": 12,
   "metadata": {},
   "outputs": [],
   "source": [
    "#définition de constantes\n",
    "TARGET_NEGATIVE = 0\n",
    "TARGET_POSITIVE = 4"
   ]
  },
  {
   "cell_type": "markdown",
   "metadata": {},
   "source": [
    "Comme il n'y a qu'une seule valeur dans la variable flag, elle n'est pas utile, on la supprime"
   ]
  },
  {
   "cell_type": "code",
   "execution_count": 13,
   "metadata": {},
   "outputs": [],
   "source": [
    "datas = datas.drop(columns=\"flag\")"
   ]
  },
  {
   "cell_type": "markdown",
   "metadata": {},
   "source": [
    "On définit la variable ids en tant qu'idex"
   ]
  },
  {
   "cell_type": "code",
   "execution_count": 14,
   "metadata": {},
   "outputs": [],
   "source": [
    "datas = datas.set_index(\"ids\")\n",
    "datas = datas.sort_index()"
   ]
  },
  {
   "cell_type": "markdown",
   "metadata": {},
   "source": [
    "On éliminte les tweets qui ont été dupliqués (erreur humaine ou technique)"
   ]
  },
  {
   "cell_type": "code",
   "execution_count": 15,
   "metadata": {},
   "outputs": [
    {
     "data": {
      "text/html": [
       "<div>\n",
       "<style scoped>\n",
       "    .dataframe tbody tr th:only-of-type {\n",
       "        vertical-align: middle;\n",
       "    }\n",
       "\n",
       "    .dataframe tbody tr th {\n",
       "        vertical-align: top;\n",
       "    }\n",
       "\n",
       "    .dataframe thead th {\n",
       "        text-align: right;\n",
       "    }\n",
       "</style>\n",
       "<table border=\"1\" class=\"dataframe\">\n",
       "  <thead>\n",
       "    <tr style=\"text-align: right;\">\n",
       "      <th></th>\n",
       "      <th>date</th>\n",
       "      <th>user</th>\n",
       "      <th>text</th>\n",
       "      <th>target</th>\n",
       "    </tr>\n",
       "    <tr>\n",
       "      <th>ids</th>\n",
       "      <th></th>\n",
       "      <th></th>\n",
       "      <th></th>\n",
       "      <th></th>\n",
       "    </tr>\n",
       "  </thead>\n",
       "  <tbody>\n",
       "    <tr>\n",
       "      <th>1548613622</th>\n",
       "      <td>Fri Apr 17 21:27:11 PDT 2009</td>\n",
       "      <td>quietyourcackle</td>\n",
       "      <td>productive friday night  i found an old song t...</td>\n",
       "      <td>4</td>\n",
       "    </tr>\n",
       "    <tr>\n",
       "      <th>1548613624</th>\n",
       "      <td>Fri Apr 17 21:27:11 PDT 2009</td>\n",
       "      <td>quietyourcackle</td>\n",
       "      <td>productive friday night  i found an old song t...</td>\n",
       "      <td>4</td>\n",
       "    </tr>\n",
       "    <tr>\n",
       "      <th>1548614650</th>\n",
       "      <td>Fri Apr 17 21:27:22 PDT 2009</td>\n",
       "      <td>YaaaaZ</td>\n",
       "      <td>Why am I awake @ 8am on a Sat morning?? Whyyyy...</td>\n",
       "      <td>0</td>\n",
       "    </tr>\n",
       "    <tr>\n",
       "      <th>1548614652</th>\n",
       "      <td>Fri Apr 17 21:27:22 PDT 2009</td>\n",
       "      <td>YaaaaZ</td>\n",
       "      <td>Why am I awake @ 8am on a Sat morning?? Whyyyy...</td>\n",
       "      <td>0</td>\n",
       "    </tr>\n",
       "    <tr>\n",
       "      <th>1548797240</th>\n",
       "      <td>Fri Apr 17 22:00:01 PDT 2009</td>\n",
       "      <td>tweetpet</td>\n",
       "      <td>@tweetchild  Clean Me!</td>\n",
       "      <td>0</td>\n",
       "    </tr>\n",
       "    <tr>\n",
       "      <th>...</th>\n",
       "      <td>...</td>\n",
       "      <td>...</td>\n",
       "      <td>...</td>\n",
       "      <td>...</td>\n",
       "    </tr>\n",
       "    <tr>\n",
       "      <th>2301988538</th>\n",
       "      <td>Tue Jun 23 16:11:03 PDT 2009</td>\n",
       "      <td>Susanluann</td>\n",
       "      <td>I effin locked my keys in my house and I'm stu...</td>\n",
       "      <td>0</td>\n",
       "    </tr>\n",
       "    <tr>\n",
       "      <th>2326023952</th>\n",
       "      <td>Thu Jun 25 06:26:14 PDT 2009</td>\n",
       "      <td>AlexandraG730</td>\n",
       "      <td>@Ashley_Cashen Yes! I have to see you before y...</td>\n",
       "      <td>0</td>\n",
       "    </tr>\n",
       "    <tr>\n",
       "      <th>2326023980</th>\n",
       "      <td>Thu Jun 25 06:26:14 PDT 2009</td>\n",
       "      <td>AlexandraG730</td>\n",
       "      <td>@Ashley_Cashen Yes! I have to see you before y...</td>\n",
       "      <td>0</td>\n",
       "    </tr>\n",
       "    <tr>\n",
       "      <th>2326314203</th>\n",
       "      <td>Thu Jun 25 06:51:59 PDT 2009</td>\n",
       "      <td>noTHINGfaced</td>\n",
       "      <td>Records retention policies are a PITA. 21 CFR ...</td>\n",
       "      <td>0</td>\n",
       "    </tr>\n",
       "    <tr>\n",
       "      <th>2326314206</th>\n",
       "      <td>Thu Jun 25 06:51:59 PDT 2009</td>\n",
       "      <td>noTHINGfaced</td>\n",
       "      <td>Records retention policies are a PITA. 21 CFR ...</td>\n",
       "      <td>0</td>\n",
       "    </tr>\n",
       "  </tbody>\n",
       "</table>\n",
       "<p>368 rows × 4 columns</p>\n",
       "</div>"
      ],
      "text/plain": [
       "                                    date             user  \\\n",
       "ids                                                         \n",
       "1548613622  Fri Apr 17 21:27:11 PDT 2009  quietyourcackle   \n",
       "1548613624  Fri Apr 17 21:27:11 PDT 2009  quietyourcackle   \n",
       "1548614650  Fri Apr 17 21:27:22 PDT 2009           YaaaaZ   \n",
       "1548614652  Fri Apr 17 21:27:22 PDT 2009           YaaaaZ   \n",
       "1548797240  Fri Apr 17 22:00:01 PDT 2009         tweetpet   \n",
       "...                                  ...              ...   \n",
       "2301988538  Tue Jun 23 16:11:03 PDT 2009       Susanluann   \n",
       "2326023952  Thu Jun 25 06:26:14 PDT 2009    AlexandraG730   \n",
       "2326023980  Thu Jun 25 06:26:14 PDT 2009    AlexandraG730   \n",
       "2326314203  Thu Jun 25 06:51:59 PDT 2009     noTHINGfaced   \n",
       "2326314206  Thu Jun 25 06:51:59 PDT 2009     noTHINGfaced   \n",
       "\n",
       "                                                         text  target  \n",
       "ids                                                                    \n",
       "1548613622  productive friday night  i found an old song t...       4  \n",
       "1548613624  productive friday night  i found an old song t...       4  \n",
       "1548614650  Why am I awake @ 8am on a Sat morning?? Whyyyy...       0  \n",
       "1548614652  Why am I awake @ 8am on a Sat morning?? Whyyyy...       0  \n",
       "1548797240                             @tweetchild  Clean Me!       0  \n",
       "...                                                       ...     ...  \n",
       "2301988538  I effin locked my keys in my house and I'm stu...       0  \n",
       "2326023952  @Ashley_Cashen Yes! I have to see you before y...       0  \n",
       "2326023980  @Ashley_Cashen Yes! I have to see you before y...       0  \n",
       "2326314203  Records retention policies are a PITA. 21 CFR ...       0  \n",
       "2326314206  Records retention policies are a PITA. 21 CFR ...       0  \n",
       "\n",
       "[368 rows x 4 columns]"
      ]
     },
     "execution_count": 15,
     "metadata": {},
     "output_type": "execute_result"
    }
   ],
   "source": [
    "datas_duplicated = datas[datas.duplicated(keep=False)]\n",
    "datas_duplicated"
   ]
  },
  {
   "cell_type": "code",
   "execution_count": 16,
   "metadata": {},
   "outputs": [
    {
     "data": {
      "text/html": [
       "<div>\n",
       "<style scoped>\n",
       "    .dataframe tbody tr th:only-of-type {\n",
       "        vertical-align: middle;\n",
       "    }\n",
       "\n",
       "    .dataframe tbody tr th {\n",
       "        vertical-align: top;\n",
       "    }\n",
       "\n",
       "    .dataframe thead th {\n",
       "        text-align: right;\n",
       "    }\n",
       "</style>\n",
       "<table border=\"1\" class=\"dataframe\">\n",
       "  <thead>\n",
       "    <tr style=\"text-align: right;\">\n",
       "      <th></th>\n",
       "      <th>ids</th>\n",
       "      <th>date</th>\n",
       "      <th>user</th>\n",
       "      <th>text</th>\n",
       "      <th>target</th>\n",
       "    </tr>\n",
       "  </thead>\n",
       "  <tbody>\n",
       "    <tr>\n",
       "      <th>0</th>\n",
       "      <td>1467810369</td>\n",
       "      <td>Mon Apr 06 22:19:45 PDT 2009</td>\n",
       "      <td>_TheSpecialOne_</td>\n",
       "      <td>@switchfoot http://twitpic.com/2y1zl - Awww, t...</td>\n",
       "      <td>0</td>\n",
       "    </tr>\n",
       "    <tr>\n",
       "      <th>1</th>\n",
       "      <td>1467810672</td>\n",
       "      <td>Mon Apr 06 22:19:49 PDT 2009</td>\n",
       "      <td>scotthamilton</td>\n",
       "      <td>is upset that he can't update his Facebook by ...</td>\n",
       "      <td>0</td>\n",
       "    </tr>\n",
       "    <tr>\n",
       "      <th>2</th>\n",
       "      <td>1467810917</td>\n",
       "      <td>Mon Apr 06 22:19:53 PDT 2009</td>\n",
       "      <td>mattycus</td>\n",
       "      <td>@Kenichan I dived many times for the ball. Man...</td>\n",
       "      <td>0</td>\n",
       "    </tr>\n",
       "    <tr>\n",
       "      <th>3</th>\n",
       "      <td>1467811184</td>\n",
       "      <td>Mon Apr 06 22:19:57 PDT 2009</td>\n",
       "      <td>ElleCTF</td>\n",
       "      <td>my whole body feels itchy and like its on fire</td>\n",
       "      <td>0</td>\n",
       "    </tr>\n",
       "    <tr>\n",
       "      <th>4</th>\n",
       "      <td>1467811193</td>\n",
       "      <td>Mon Apr 06 22:19:57 PDT 2009</td>\n",
       "      <td>Karoli</td>\n",
       "      <td>@nationwideclass no, it's not behaving at all....</td>\n",
       "      <td>0</td>\n",
       "    </tr>\n",
       "    <tr>\n",
       "      <th>...</th>\n",
       "      <td>...</td>\n",
       "      <td>...</td>\n",
       "      <td>...</td>\n",
       "      <td>...</td>\n",
       "      <td>...</td>\n",
       "    </tr>\n",
       "    <tr>\n",
       "      <th>1599995</th>\n",
       "      <td>2329205009</td>\n",
       "      <td>Thu Jun 25 10:28:28 PDT 2009</td>\n",
       "      <td>dandykim</td>\n",
       "      <td>Sick  Spending my day laying in bed listening ...</td>\n",
       "      <td>0</td>\n",
       "    </tr>\n",
       "    <tr>\n",
       "      <th>1599996</th>\n",
       "      <td>2329205038</td>\n",
       "      <td>Thu Jun 25 10:28:28 PDT 2009</td>\n",
       "      <td>bigenya</td>\n",
       "      <td>Gmail is down?</td>\n",
       "      <td>0</td>\n",
       "    </tr>\n",
       "    <tr>\n",
       "      <th>1599997</th>\n",
       "      <td>2329205473</td>\n",
       "      <td>Thu Jun 25 10:28:30 PDT 2009</td>\n",
       "      <td>LeeLHoke</td>\n",
       "      <td>rest in peace Farrah! So sad</td>\n",
       "      <td>0</td>\n",
       "    </tr>\n",
       "    <tr>\n",
       "      <th>1599998</th>\n",
       "      <td>2329205574</td>\n",
       "      <td>Thu Jun 25 10:28:30 PDT 2009</td>\n",
       "      <td>davidlmulder</td>\n",
       "      <td>@Eric_Urbane Sounds like a rival is flagging y...</td>\n",
       "      <td>0</td>\n",
       "    </tr>\n",
       "    <tr>\n",
       "      <th>1599999</th>\n",
       "      <td>2329205794</td>\n",
       "      <td>Thu Jun 25 10:28:31 PDT 2009</td>\n",
       "      <td>tpchandler</td>\n",
       "      <td>has to resit exams over summer...  wishes he w...</td>\n",
       "      <td>0</td>\n",
       "    </tr>\n",
       "  </tbody>\n",
       "</table>\n",
       "<p>1600000 rows × 5 columns</p>\n",
       "</div>"
      ],
      "text/plain": [
       "                ids                          date             user  \\\n",
       "0        1467810369  Mon Apr 06 22:19:45 PDT 2009  _TheSpecialOne_   \n",
       "1        1467810672  Mon Apr 06 22:19:49 PDT 2009    scotthamilton   \n",
       "2        1467810917  Mon Apr 06 22:19:53 PDT 2009         mattycus   \n",
       "3        1467811184  Mon Apr 06 22:19:57 PDT 2009          ElleCTF   \n",
       "4        1467811193  Mon Apr 06 22:19:57 PDT 2009           Karoli   \n",
       "...             ...                           ...              ...   \n",
       "1599995  2329205009  Thu Jun 25 10:28:28 PDT 2009         dandykim   \n",
       "1599996  2329205038  Thu Jun 25 10:28:28 PDT 2009          bigenya   \n",
       "1599997  2329205473  Thu Jun 25 10:28:30 PDT 2009         LeeLHoke   \n",
       "1599998  2329205574  Thu Jun 25 10:28:30 PDT 2009     davidlmulder   \n",
       "1599999  2329205794  Thu Jun 25 10:28:31 PDT 2009       tpchandler   \n",
       "\n",
       "                                                      text  target  \n",
       "0        @switchfoot http://twitpic.com/2y1zl - Awww, t...       0  \n",
       "1        is upset that he can't update his Facebook by ...       0  \n",
       "2        @Kenichan I dived many times for the ball. Man...       0  \n",
       "3          my whole body feels itchy and like its on fire        0  \n",
       "4        @nationwideclass no, it's not behaving at all....       0  \n",
       "...                                                    ...     ...  \n",
       "1599995  Sick  Spending my day laying in bed listening ...       0  \n",
       "1599996                                    Gmail is down?        0  \n",
       "1599997                      rest in peace Farrah! So sad        0  \n",
       "1599998  @Eric_Urbane Sounds like a rival is flagging y...       0  \n",
       "1599999  has to resit exams over summer...  wishes he w...       0  \n",
       "\n",
       "[1600000 rows x 5 columns]"
      ]
     },
     "execution_count": 16,
     "metadata": {},
     "output_type": "execute_result"
    }
   ],
   "source": [
    "# Reconstruire l'index\n",
    "datas = datas.reset_index()\n",
    "datas"
   ]
  },
  {
   "cell_type": "markdown",
   "metadata": {},
   "source": [
    "On vérifie que la variable target est bien équilibré"
   ]
  },
  {
   "cell_type": "code",
   "execution_count": 17,
   "metadata": {},
   "outputs": [
    {
     "data": {
      "image/png": "[encoded data removed]",
      "text/plain": [
       "<Figure size 640x480 with 1 Axes>"
      ]
     },
     "metadata": {},
     "output_type": "display_data"
    },
    {
     "data": {
      "text/plain": [
       "target\n",
       "0    800000\n",
       "4    800000\n",
       "Name: count, dtype: int64"
      ]
     },
     "execution_count": 17,
     "metadata": {},
     "output_type": "execute_result"
    }
   ],
   "source": [
    "# Compter le nombre de la valeur utilisée pour la variable target\n",
    "num_targets = datas[\"target\"].value_counts()\n",
    "\n",
    "# On l'affiche dans un diagramme en barre\n",
    "sns.barplot(data=num_targets)\n",
    "plt.title(\"Répartition des targets\")\n",
    "plt.show()\n",
    "\n",
    "# On affiche les valeurs et leur nombre\n",
    "num_targets"
   ]
  },
  {
   "cell_type": "markdown",
   "metadata": {},
   "source": [
    "# 6 - Traitements lourds"
   ]
  },
  {
   "cell_type": "code",
   "execution_count": 18,
   "metadata": {},
   "outputs": [],
   "source": [
    "# copier les données brutes\n",
    "cdatas = datas.copy()"
   ]
  },
  {
   "cell_type": "markdown",
   "metadata": {},
   "source": [
    "On effectue le prétraitement et la lemmatization de tout le contenu afin d'accélérer les futures utilisations.\n",
    "C'est une tâche assez gourmande en ressource, par conséquent, cette tâche n'est utilisée qu'une seule fois, et on enregistre le résultat dans un fichier .csv qui sera utilisé à chaque fois."
   ]
  },
  {
   "cell_type": "code",
   "execution_count": 19,
   "metadata": {},
   "outputs": [],
   "source": [
    "# nom du fichier à enregistrer\n",
    "result_file = \"saved_preprocessed_lemming_datas.csv\"\n",
    "\n",
    "# SI le fichier n'existe pas, on lance le prétraitement\n",
    "if not Path(result_file).exists():\n",
    "    # Lemmatization\n",
    "    lem_pdatas = datas.copy()\n",
    "    lem_pdatas.loc[:, \"text\"] = datas[\"text\"].apply(lambda x: preprocess_text(x, \"lemming\"))\n",
    "\n",
    "    # Sauvegarde du résultat\n",
    "    lem_pdatas.to_csv(result_file, index=False)\n",
    "else:\n",
    "    # Sinon on récupère le contenu du fichier enregistré\n",
    "    lem_pdatas = pd.read_csv(\"saved_preprocessed_lemming_datas.csv\")"
   ]
  },
  {
   "cell_type": "markdown",
   "metadata": {},
   "source": [
    "Même chose en stemming"
   ]
  },
  {
   "cell_type": "code",
   "execution_count": 20,
   "metadata": {},
   "outputs": [],
   "source": [
    "# nom du fichier à enregistrer\n",
    "result_file = \"saved_preprocessed_stemming_datas.csv\"\n",
    "\n",
    "# Si le fichier n'existe pas, on lance le prétraitement\n",
    "if not Path(result_file).exists():\n",
    "    # Stemming\n",
    "    stem_pdatas = datas.copy()\n",
    "    stem_pdatas.loc[:, \"text\"] = datas[\"text\"].apply(lambda x: preprocess_text(x, \"stemming\"))\n",
    "\n",
    "    # Sauvegarde du résultat\n",
    "    stem_pdatas.to_csv(result_file, index=False)\n",
    "else:\n",
    "    # Sinon on récupère le contenu du fichier enregistré\n",
    "    stem_pdatas = pd.read_csv(\"saved_preprocessed_stemming_datas.csv\")"
   ]
  },
  {
   "cell_type": "markdown",
   "metadata": {},
   "source": [
    "On vérifie la présence de valeur manquante, il se peut que la lemmatization ou le stemming ne parvient pas à transformer certains mots"
   ]
  },
  {
   "cell_type": "code",
   "execution_count": 21,
   "metadata": {},
   "outputs": [
    {
     "name": "stdout",
     "output_type": "stream",
     "text": [
      "text\n",
      "False    1600000\n",
      "Name: count, dtype: int64\n",
      "text\n",
      "False    1599254\n",
      "True         746\n",
      "Name: count, dtype: int64\n",
      "text\n",
      "False    1599334\n",
      "True         666\n",
      "Name: count, dtype: int64\n"
     ]
    }
   ],
   "source": [
    "print(cdatas[\"text\"].isna().value_counts())\n",
    "print(lem_pdatas[\"text\"].isna().value_counts())\n",
    "print(stem_pdatas[\"text\"].isna().value_counts())"
   ]
  },
  {
   "cell_type": "markdown",
   "metadata": {},
   "source": [
    "Comme ils sont très peu nombreux, on les supprime"
   ]
  },
  {
   "cell_type": "code",
   "execution_count": 22,
   "metadata": {},
   "outputs": [],
   "source": [
    "cdatas = cdatas.dropna()\n",
    "lem_pdatas = lem_pdatas.dropna()\n",
    "stem_pdatas = stem_pdatas.dropna()"
   ]
  },
  {
   "cell_type": "markdown",
   "metadata": {},
   "source": [
    "# 7 - Préparation des données"
   ]
  },
  {
   "cell_type": "markdown",
   "metadata": {},
   "source": [
    "Les individus des fichiers sont en une quantité importante (1,6 millions), le temps de traitement nécessaire peut être assez conséquent, il est donc nécessaire de réduire le nombre d'échantillon afin qu'on puisse faire l'essentiel avant de passer à un échantillon plus important"
   ]
  },
  {
   "cell_type": "code",
   "execution_count": 23,
   "metadata": {},
   "outputs": [],
   "source": [
    "# sélectionner les variables\n",
    "cible_vars = [\"text\", \"target\"]\n",
    "\n",
    "# construire un dataset réduit à 0,01% de l'échantillon d'origine afin d'accélérer les tests\n",
    "brut_ldatas, brut_mdatas = train_test_split(cdatas[cible_vars], test_size=0.01, stratify=cdatas[\"target\"], random_state=42) \n",
    "lem_ldatas, lem_mdatas = train_test_split(lem_pdatas[cible_vars], test_size=0.01, stratify=lem_pdatas[\"target\"], random_state=42)\n",
    "stem_ldatas, stem_mdatas = train_test_split(stem_pdatas[cible_vars], test_size=0.01, stratify=stem_pdatas[\"target\"], random_state=42)"
   ]
  },
  {
   "cell_type": "markdown",
   "metadata": {},
   "source": [
    "On modifie afin que les valeurs cibles soient binaires : 0 pour sentiment négatif et 1 pour sentiment positif"
   ]
  },
  {
   "cell_type": "code",
   "execution_count": 24,
   "metadata": {},
   "outputs": [],
   "source": [
    "brut_mdatas.loc[brut_mdatas[\"target\"] == 4, \"target\"] = 1\n",
    "lem_mdatas.loc[lem_mdatas[\"target\"] == 4, \"target\"] = 1\n",
    "stem_mdatas.loc[stem_mdatas[\"target\"] == 4, \"target\"] = 1"
   ]
  },
  {
   "cell_type": "markdown",
   "metadata": {},
   "source": [
    "# 8 - Entraînement et tracking"
   ]
  },
  {
   "cell_type": "markdown",
   "metadata": {},
   "source": [
    "## 8-1 - Normalisation lemmatization et stemming"
   ]
  },
  {
   "cell_type": "code",
   "execution_count": 25,
   "metadata": {},
   "outputs": [],
   "source": [
    "lem_count_vectorizer = CountVectorizer()\n",
    "lem_count_bow = lem_count_vectorizer.fit_transform(lem_mdatas[\"text\"])\n",
    "\n",
    "lem_tfidf_vectorizer = TfidfVectorizer()\n",
    "lem_tfidf_bow = lem_tfidf_vectorizer.fit_transform(lem_mdatas[\"text\"])\n",
    "\n",
    "stem_count_vectorizer = CountVectorizer()\n",
    "stem_count_bow = stem_count_vectorizer.fit_transform(stem_mdatas[\"text\"])\n",
    "\n",
    "stem_tfidf_vectorizer = TfidfVectorizer()\n",
    "stem_tfidf_bow = stem_tfidf_vectorizer.fit_transform(stem_mdatas[\"text\"])"
   ]
  },
  {
   "cell_type": "markdown",
   "metadata": {},
   "source": [
    "## 8-2 - Sépéaration des échantillons en portions entraînement et portion test"
   ]
  },
  {
   "cell_type": "code",
   "execution_count": 26,
   "metadata": {},
   "outputs": [],
   "source": [
    "brut_split_X_train, brut_split_X_test, brut_split_y_train, brut_split_y_test = train_test_split(brut_mdatas[\"text\"], brut_mdatas[\"target\"], random_state=42, test_size=0.3, stratify=brut_mdatas[\"target\"])\n",
    "split_brut_datas = {\n",
    "    \"X_train\": brut_split_X_train,\n",
    "    \"X_test\": brut_split_X_test,\n",
    "    \"y_train\": brut_split_y_train,\n",
    "    \"y_test\": brut_split_y_test\n",
    "}\n",
    "\n",
    "lem_split_X_train, lem_split_X_test, lem_split_y_train, lem_split_y_test = train_test_split(lem_mdatas[\"text\"], lem_mdatas[\"target\"], random_state=42, test_size=0.3, stratify=lem_mdatas[\"target\"])\n",
    "split_lem_datas = {\n",
    "    \"X_train\": lem_split_X_train,\n",
    "    \"X_test\": lem_split_X_test,\n",
    "    \"y_train\": lem_split_y_train,\n",
    "    \"y_test\": lem_split_y_test\n",
    "}\n",
    "\n",
    "stem_split_X_train, stem_split_X_test, stem_split_y_train, stem_split_y_test = train_test_split(stem_mdatas[\"text\"], stem_mdatas[\"target\"], random_state=42, test_size=0.3, stratify=stem_mdatas[\"target\"])\n",
    "split_stem_datas = {\n",
    "    \"X_train\": stem_split_X_train,\n",
    "    \"X_test\": stem_split_X_test,\n",
    "    \"y_train\": stem_split_y_train,\n",
    "    \"y_test\": stem_split_y_test\n",
    "}\n",
    "\n",
    "lem_count_X_train, lem_count_X_test, lem_count_y_train, lem_count_y_test = train_test_split(lem_count_bow, lem_mdatas[\"target\"], random_state=42, test_size=0.3, stratify=lem_mdatas[\"target\"])\n",
    "lem_count_datas = {\n",
    "    \"X_train\": lem_count_X_train,\n",
    "    \"X_test\": lem_count_X_test,\n",
    "    \"y_train\": lem_count_y_train,\n",
    "    \"y_test\": lem_count_y_test\n",
    "}\n",
    "\n",
    "lem_tfidf_X_train, lem_tfidf_X_test, lem_tfidf_y_train, lem_tfidf_y_test = train_test_split(lem_tfidf_bow, lem_mdatas[\"target\"], random_state=42, test_size=0.3, stratify=lem_mdatas[\"target\"])\n",
    "lem_tfidf_datas = {\n",
    "    \"X_train\": lem_tfidf_X_train,\n",
    "    \"X_test\": lem_tfidf_X_test,\n",
    "    \"y_train\": lem_tfidf_y_train,\n",
    "    \"y_test\": lem_tfidf_y_test\n",
    "}\n",
    "\n",
    "stem_count_X_train, stem_count_X_test, stem_count_y_train, stem_count_y_test = train_test_split(stem_count_bow, stem_mdatas[\"target\"], random_state=42, test_size=0.3, stratify=stem_mdatas[\"target\"])\n",
    "stem_count_datas = {\n",
    "    \"X_train\": stem_count_X_train,\n",
    "    \"X_test\": stem_count_X_test,\n",
    "    \"y_train\": stem_count_y_train,\n",
    "    \"y_test\": stem_count_y_test\n",
    "}\n",
    "\n",
    "stem_tfidf_X_train, stem_tfidf_X_test, stem_tfidf_y_train, stem_tfidf_y_test = train_test_split(stem_tfidf_bow, stem_mdatas[\"target\"], random_state=42, test_size=0.3, stratify=stem_mdatas[\"target\"])\n",
    "stem_tfidf_datas = {\n",
    "    \"X_train\": stem_tfidf_X_train,\n",
    "    \"X_test\": stem_tfidf_X_test,\n",
    "    \"y_train\": stem_tfidf_y_train,\n",
    "    \"y_test\": stem_tfidf_y_test\n",
    "}"
   ]
  },
  {
   "cell_type": "markdown",
   "metadata": {},
   "source": [
    "## 8-3 Lancement des entraînement et le tracking"
   ]
  },
  {
   "cell_type": "markdown",
   "metadata": {},
   "source": [
    "### 8-3-1 - Modèles simples (avec Bag of words)"
   ]
  },
  {
   "cell_type": "markdown",
   "metadata": {},
   "source": [
    "#### 8-3-1-1 - LogisticRegression"
   ]
  },
  {
   "cell_type": "code",
   "execution_count": 27,
   "metadata": {},
   "outputs": [],
   "source": [
    "params = {\n",
    "    \"C\": [0.1, 1, 10],\n",
    "    \"max_iter\": [100, 150]\n",
    "}\n",
    "\n",
    "model = LogisticRegression()\n",
    "\n",
    "run_name=\"Logistic Regression Lem SimpleCount\"\n",
    "track_model_training(model, lem_count_datas, params, \"sklearn\", run_name, lem_count_vectorizer)\n",
    "\n",
    "run_name=\"Logistic Regression Lem TDIDF\"\n",
    "track_model_training(model, lem_tfidf_datas, params, \"sklearn\", run_name, lem_tfidf_vectorizer)\n",
    "\n",
    "run_name=\"Logistic Regression Stem SimpleCount\"\n",
    "track_model_training(model, stem_count_datas, params, \"sklearn\", run_name, stem_count_vectorizer)\n",
    "\n",
    "run_name=\"Logistic Regression Stem TDIDF\"\n",
    "track_model_training(model, stem_tfidf_datas, params, \"sklearn\", run_name, stem_tfidf_vectorizer)"
   ]
  },
  {
   "cell_type": "markdown",
   "metadata": {},
   "source": [
    "#### 8-3-1-2 - RandomForestClassifier()"
   ]
  },
  {
   "cell_type": "code",
   "execution_count": 28,
   "metadata": {},
   "outputs": [],
   "source": [
    "model = RandomForestClassifier()\n",
    "params = {\n",
    "    \"n_estimators\": [50, 100],\n",
    "    \"max_depth\": [100, None],\n",
    "    \"min_samples_split\": [2, 3],\n",
    "    \"random_state\": [42],\n",
    "}\n",
    "\n",
    "run_name=\"Random Forest Lem SimpleCount\"\n",
    "track_model_training(model, lem_count_datas, params, \"sklearn\", run_name, lem_count_vectorizer)\n",
    "\n",
    "run_name=\"Random Forest Lem TDIDF\"\n",
    "track_model_training(model, lem_tfidf_datas, params, \"sklearn\", run_name, lem_tfidf_vectorizer)\n",
    "\n",
    "run_name=\"Random Forest Stem SimpleCount\"\n",
    "track_model_training(model, stem_count_datas, params, \"sklearn\", run_name, stem_count_vectorizer)\n",
    "\n",
    "run_name=\"Random Forest Stem TDIDF\"\n",
    "track_model_training(model, stem_tfidf_datas, params, \"sklearn\", run_name, stem_tfidf_vectorizer)"
   ]
  },
  {
   "cell_type": "markdown",
   "metadata": {},
   "source": [
    "#### 8-3-1-3 - GradientBoostingClassifier"
   ]
  },
  {
   "cell_type": "code",
   "execution_count": 29,
   "metadata": {},
   "outputs": [],
   "source": [
    "model = GradientBoostingClassifier()\n",
    "params = {\n",
    "    \"n_estimators\": [50, 100],\n",
    "    \"learning_rate\": [0.1, 0.5],\n",
    "    \"max_depth\": [3, 10],\n",
    "    \"random_state\": [42],\n",
    "}\n",
    "\n",
    "run_name=\"Gradient Boosting Lem SimpleCount\"\n",
    "track_model_training(model, lem_count_datas, params, \"sklearn\", run_name, lem_count_vectorizer)\n",
    "\n",
    "run_name=\"Gradient Boosting Lem TDIDF\"\n",
    "track_model_training(model, lem_count_datas, params, \"sklearn\", run_name, lem_tfidf_vectorizer)\n",
    "\n",
    "run_name=\"Gradient Boosting Stem SimpleCount\"\n",
    "track_model_training(model, stem_count_datas, params, \"sklearn\", run_name, stem_count_vectorizer)\n",
    "\n",
    "run_name=\"Gradient Boosting Stem TDIDF\"\n",
    "track_model_training(model, stem_count_datas, params, \"sklearn\", run_name, stem_tfidf_vectorizer)"
   ]
  },
  {
   "cell_type": "markdown",
   "metadata": {},
   "source": [
    "### 8-3-2 - Modèles avancés (avec word embedding)"
   ]
  },
  {
   "cell_type": "markdown",
   "metadata": {},
   "source": [
    "#### 8-3-2-1 - Word2VecTransformer"
   ]
  },
  {
   "cell_type": "code",
   "execution_count": 30,
   "metadata": {},
   "outputs": [],
   "source": [
    "# Pipeline\n",
    "pipeline = Pipeline([\n",
    "    (\"word2vec\", Word2VecTransformer()),\n",
    "    (\"logisticRegression\", LogisticRegression())\n",
    "])\n",
    "\n",
    "# Paramètres à tester\n",
    "params = {\n",
    "    \"word2vec__vector_size\": [100, 200],\n",
    "    \"word2vec__window\": [5, 10],\n",
    "    \"logisticRegression__C\": [0.1, 1, 10],\n",
    "    \"logisticRegression__max_iter\": [100, 150]\n",
    "}\n",
    "\n",
    "\n",
    "run_name=\"Word2Vec -> Logistic Regression Lem\"\n",
    "track_model_training(pipeline, split_lem_datas, params, \"sklearn\", run_name)\n",
    "\n",
    "run_name=\"Word2Vec -> Logistic Regression Stem\"\n",
    "track_model_training(pipeline, split_stem_datas, params, \"sklearn\", run_name)"
   ]
  },
  {
   "cell_type": "code",
   "execution_count": 31,
   "metadata": {},
   "outputs": [],
   "source": [
    "# Pipeline\n",
    "pipeline = Pipeline([\n",
    "    (\"word2vec\", Word2VecTransformer()),\n",
    "    (\"randomForestClassifier\", RandomForestClassifier())\n",
    "])\n",
    "\n",
    "# Paramètres à tester\n",
    "params = {\n",
    "    \"word2vec__vector_size\": [100, 200],\n",
    "    \"word2vec__window\": [5, 10],\n",
    "    \"randomForestClassifier__n_estimators\": [50, 100],\n",
    "    \"randomForestClassifier__max_depth\": [100, None],\n",
    "    \"randomForestClassifier__min_samples_split\": [2, 3],\n",
    "    \"randomForestClassifier__random_state\": [42],\n",
    "}\n",
    "\n",
    "run_name=\"Word2Vec -> Random Forest Lem\"\n",
    "track_model_training(pipeline, split_lem_datas, params, \"sklearn\", run_name)\n",
    "\n",
    "run_name=\"Word2Vec -> Random Forest Stem\"\n",
    "track_model_training(pipeline, split_stem_datas, params, \"sklearn\", run_name)"
   ]
  },
  {
   "cell_type": "markdown",
   "metadata": {},
   "source": [
    "#### 8-3-2-3 - FastTextTransformer"
   ]
  },
  {
   "cell_type": "code",
   "execution_count": 32,
   "metadata": {},
   "outputs": [],
   "source": [
    "# Pipeline\n",
    "pipeline = Pipeline([\n",
    "    (\"fastText\", FastTextTransformer()),\n",
    "    (\"logisticRegression\", LogisticRegression())\n",
    "])\n",
    "\n",
    "# Paramètres à tester\n",
    "params = {\n",
    "    \"fastText__vector_size\": [50, 100],\n",
    "    \"fastText__window\": [2, 5],\n",
    "    \"logisticRegression__C\": [0.1, 1, 2],\n",
    "    \"logisticRegression__max_iter\": [50, 100]\n",
    "}\n",
    "\n",
    "\n",
    "run_name=\"FastText -> Logistic Regression Lem\"\n",
    "track_model_training(pipeline, split_lem_datas, params, \"sklearn\", run_name)\n",
    "\n",
    "run_name=\"FastText -> Logistic Regression Stem\"\n",
    "track_model_training(pipeline, split_stem_datas, params, \"sklearn\", run_name)"
   ]
  },
  {
   "cell_type": "markdown",
   "metadata": {},
   "source": [
    "#### 8-3-2-4 - BertForSequenceClassification"
   ]
  },
  {
   "cell_type": "code",
   "execution_count": 34,
   "metadata": {},
   "outputs": [
    {
     "name": "stderr",
     "output_type": "stream",
     "text": [
      "Some weights of BertForSequenceClassification were not initialized from the model checkpoint at nlptown/bert-base-multilingual-uncased-sentiment and are newly initialized because the shapes did not match:\n",
      "- classifier.weight: found shape torch.Size([5, 768]) in the checkpoint and torch.Size([2, 768]) in the model instantiated\n",
      "- classifier.bias: found shape torch.Size([5]) in the checkpoint and torch.Size([2]) in the model instantiated\n",
      "You should probably TRAIN this model on a down-stream task to be able to use it for predictions and inference.\n"
     ]
    },
    {
     "data": {
      "application/vnd.jupyter.widget-view+json": {
       "model_id": "5bd3768f7a274e1d95b1b05ab97c77af",
       "version_major": 2,
       "version_minor": 0
      },
      "text/plain": [
       "  0%|          | 0/117 [00:00<?, ?it/s]"
      ]
     },
     "metadata": {},
     "output_type": "display_data"
    },
    {
     "name": "stderr",
     "output_type": "stream",
     "text": [
      "c:\\Python312\\Lib\\site-packages\\transformers\\models\\bert\\modeling_bert.py:440: UserWarning: 1Torch was not compiled with flash attention. (Triggered internally at ..\\aten\\src\\ATen\\native\\transformers\\cuda\\sdp_utils.cpp:455.)\n",
      "  attn_output = torch.nn.functional.scaled_dot_product_attention(\n"
     ]
    },
    {
     "name": "stdout",
     "output_type": "stream",
     "text": [
      "{'loss': 0.6131, 'grad_norm': 4.2013840675354, 'learning_rate': 9.145299145299145e-06, 'epoch': 0.09}\n",
      "{'loss': 0.54, 'grad_norm': 4.864316940307617, 'learning_rate': 8.290598290598293e-06, 'epoch': 0.17}\n",
      "{'loss': 0.5051, 'grad_norm': 4.872834205627441, 'learning_rate': 7.435897435897437e-06, 'epoch': 0.26}\n",
      "{'loss': 0.4977, 'grad_norm': 6.5820794105529785, 'learning_rate': 6.581196581196582e-06, 'epoch': 0.34}\n",
      "{'loss': 0.5456, 'grad_norm': 8.897537231445312, 'learning_rate': 5.726495726495727e-06, 'epoch': 0.43}\n",
      "{'loss': 0.4927, 'grad_norm': 3.3178956508636475, 'learning_rate': 4.871794871794872e-06, 'epoch': 0.51}\n",
      "{'loss': 0.5157, 'grad_norm': 3.6120615005493164, 'learning_rate': 4.017094017094018e-06, 'epoch': 0.6}\n",
      "{'loss': 0.5016, 'grad_norm': 3.285465955734253, 'learning_rate': 3.1623931623931626e-06, 'epoch': 0.68}\n",
      "{'loss': 0.4925, 'grad_norm': 4.423178672790527, 'learning_rate': 2.307692307692308e-06, 'epoch': 0.77}\n",
      "{'loss': 0.4857, 'grad_norm': 3.6942405700683594, 'learning_rate': 1.4529914529914531e-06, 'epoch': 0.85}\n",
      "{'loss': 0.4871, 'grad_norm': 5.027468204498291, 'learning_rate': 5.982905982905984e-07, 'epoch': 0.94}\n"
     ]
    },
    {
     "data": {
      "application/vnd.jupyter.widget-view+json": {
       "model_id": "f8c640ea196247f3b514a8966d8cce3b",
       "version_major": 2,
       "version_minor": 0
      },
      "text/plain": [
       "  0%|          | 0/59 [00:00<?, ?it/s]"
      ]
     },
     "metadata": {},
     "output_type": "display_data"
    },
    {
     "name": "stdout",
     "output_type": "stream",
     "text": [
      "{'eval_loss': 0.4808505177497864, 'eval_accuracy': 0.775307980717729, 'eval_runtime': 5.5118, 'eval_samples_per_second': 677.454, 'eval_steps_per_second': 10.704, 'epoch': 1.0}\n",
      "{'train_runtime': 44.1465, 'train_samples_per_second': 169.119, 'train_steps_per_second': 2.65, 'train_loss': 0.5148598842131786, 'epoch': 1.0}\n"
     ]
    },
    {
     "data": {
      "application/vnd.jupyter.widget-view+json": {
       "model_id": "9af42231fb56445ca2a289aa28506d67",
       "version_major": 2,
       "version_minor": 0
      },
      "text/plain": [
       "  0%|          | 0/59 [00:00<?, ?it/s]"
      ]
     },
     "metadata": {},
     "output_type": "display_data"
    },
    {
     "data": {
      "application/vnd.jupyter.widget-view+json": {
       "model_id": "5972f741dc3c46a69f77182fb2366cd5",
       "version_major": 2,
       "version_minor": 0
      },
      "text/plain": [
       "  0%|          | 0/117 [00:00<?, ?it/s]"
      ]
     },
     "metadata": {},
     "output_type": "display_data"
    },
    {
     "name": "stdout",
     "output_type": "stream",
     "text": [
      "{'loss': 0.4845, 'grad_norm': 5.027162551879883, 'learning_rate': 9.145299145299145e-06, 'epoch': 0.09}\n",
      "{'loss': 0.455, 'grad_norm': 5.404497146606445, 'learning_rate': 8.290598290598293e-06, 'epoch': 0.17}\n",
      "{'loss': 0.4734, 'grad_norm': 5.625996112823486, 'learning_rate': 7.435897435897437e-06, 'epoch': 0.26}\n",
      "{'loss': 0.481, 'grad_norm': 4.360198020935059, 'learning_rate': 6.581196581196582e-06, 'epoch': 0.34}\n",
      "{'loss': 0.4608, 'grad_norm': 4.0100579261779785, 'learning_rate': 5.726495726495727e-06, 'epoch': 0.43}\n",
      "{'loss': 0.4158, 'grad_norm': 5.01616907119751, 'learning_rate': 4.871794871794872e-06, 'epoch': 0.51}\n",
      "{'loss': 0.4632, 'grad_norm': 3.8940436840057373, 'learning_rate': 4.017094017094018e-06, 'epoch': 0.6}\n",
      "{'loss': 0.4601, 'grad_norm': 4.35846471786499, 'learning_rate': 3.1623931623931626e-06, 'epoch': 0.68}\n",
      "{'loss': 0.499, 'grad_norm': 4.548609256744385, 'learning_rate': 2.307692307692308e-06, 'epoch': 0.77}\n",
      "{'loss': 0.4386, 'grad_norm': 3.141974687576294, 'learning_rate': 1.4529914529914531e-06, 'epoch': 0.85}\n",
      "{'loss': 0.4456, 'grad_norm': 3.1554367542266846, 'learning_rate': 5.982905982905984e-07, 'epoch': 0.94}\n"
     ]
    },
    {
     "data": {
      "application/vnd.jupyter.widget-view+json": {
       "model_id": "a0aea4caf9214472ad0f7cfc43cdf87b",
       "version_major": 2,
       "version_minor": 0
      },
      "text/plain": [
       "  0%|          | 0/59 [00:00<?, ?it/s]"
      ]
     },
     "metadata": {},
     "output_type": "display_data"
    },
    {
     "name": "stdout",
     "output_type": "stream",
     "text": [
      "{'eval_loss': 0.4175534248352051, 'eval_accuracy': 0.8084650415215644, 'eval_runtime': 5.3692, 'eval_samples_per_second': 695.261, 'eval_steps_per_second': 10.989, 'epoch': 1.0}\n",
      "{'train_runtime': 43.3412, 'train_samples_per_second': 172.284, 'train_steps_per_second': 2.7, 'train_loss': 0.4563002015790369, 'epoch': 1.0}\n"
     ]
    },
    {
     "data": {
      "application/vnd.jupyter.widget-view+json": {
       "model_id": "2cd2f2b20af34715915934ca88b24ac0",
       "version_major": 2,
       "version_minor": 0
      },
      "text/plain": [
       "  0%|          | 0/59 [00:00<?, ?it/s]"
      ]
     },
     "metadata": {},
     "output_type": "display_data"
    },
    {
     "data": {
      "application/vnd.jupyter.widget-view+json": {
       "model_id": "09f4e44f518045699d3b6e0829ae98ea",
       "version_major": 2,
       "version_minor": 0
      },
      "text/plain": [
       "  0%|          | 0/117 [00:00<?, ?it/s]"
      ]
     },
     "metadata": {},
     "output_type": "display_data"
    },
    {
     "name": "stdout",
     "output_type": "stream",
     "text": [
      "{'loss': 0.4601, 'grad_norm': 3.9106392860412598, 'learning_rate': 9.145299145299145e-06, 'epoch': 0.09}\n",
      "{'loss': 0.3951, 'grad_norm': 4.298120975494385, 'learning_rate': 8.290598290598293e-06, 'epoch': 0.17}\n",
      "{'loss': 0.4337, 'grad_norm': 4.426464080810547, 'learning_rate': 7.435897435897437e-06, 'epoch': 0.26}\n",
      "{'loss': 0.4958, 'grad_norm': 4.00469446182251, 'learning_rate': 6.581196581196582e-06, 'epoch': 0.34}\n",
      "{'loss': 0.4356, 'grad_norm': 5.4071245193481445, 'learning_rate': 5.726495726495727e-06, 'epoch': 0.43}\n",
      "{'loss': 0.4282, 'grad_norm': 3.147089719772339, 'learning_rate': 4.871794871794872e-06, 'epoch': 0.51}\n",
      "{'loss': 0.4458, 'grad_norm': 4.512417316436768, 'learning_rate': 4.017094017094018e-06, 'epoch': 0.6}\n",
      "{'loss': 0.4131, 'grad_norm': 7.013838291168213, 'learning_rate': 3.1623931623931626e-06, 'epoch': 0.68}\n",
      "{'loss': 0.4467, 'grad_norm': 5.983631610870361, 'learning_rate': 2.307692307692308e-06, 'epoch': 0.77}\n",
      "{'loss': 0.4042, 'grad_norm': 4.350086688995361, 'learning_rate': 1.4529914529914531e-06, 'epoch': 0.85}\n",
      "{'loss': 0.435, 'grad_norm': 4.550274848937988, 'learning_rate': 5.982905982905984e-07, 'epoch': 0.94}\n"
     ]
    },
    {
     "data": {
      "application/vnd.jupyter.widget-view+json": {
       "model_id": "ac476669fa1d4a8f90d04c8464f7ff51",
       "version_major": 2,
       "version_minor": 0
      },
      "text/plain": [
       "  0%|          | 0/59 [00:00<?, ?it/s]"
      ]
     },
     "metadata": {},
     "output_type": "display_data"
    },
    {
     "name": "stdout",
     "output_type": "stream",
     "text": [
      "{'eval_loss': 0.36300602555274963, 'eval_accuracy': 0.8483793195821056, 'eval_runtime': 5.6403, 'eval_samples_per_second': 661.848, 'eval_steps_per_second': 10.46, 'epoch': 1.0}\n",
      "{'train_runtime': 44.2423, 'train_samples_per_second': 168.775, 'train_steps_per_second': 2.645, 'train_loss': 0.4318717932089781, 'epoch': 1.0}\n"
     ]
    },
    {
     "data": {
      "application/vnd.jupyter.widget-view+json": {
       "model_id": "f61d626e7bc049beb81e2d89b597e257",
       "version_major": 2,
       "version_minor": 0
      },
      "text/plain": [
       "  0%|          | 0/59 [00:00<?, ?it/s]"
      ]
     },
     "metadata": {},
     "output_type": "display_data"
    },
    {
     "data": {
      "application/vnd.jupyter.widget-view+json": {
       "model_id": "d6a401d80a464af6b8bb034ec72a005c",
       "version_major": 2,
       "version_minor": 0
      },
      "text/plain": [
       "  0%|          | 0/117 [00:00<?, ?it/s]"
      ]
     },
     "metadata": {},
     "output_type": "display_data"
    },
    {
     "name": "stdout",
     "output_type": "stream",
     "text": [
      "{'loss': 0.344, 'grad_norm': 3.8658666610717773, 'learning_rate': 4.572649572649573e-05, 'epoch': 0.09}\n",
      "{'loss': 0.3457, 'grad_norm': 5.942599296569824, 'learning_rate': 4.145299145299146e-05, 'epoch': 0.17}\n",
      "{'loss': 0.366, 'grad_norm': 6.948451995849609, 'learning_rate': 3.717948717948718e-05, 'epoch': 0.26}\n",
      "{'loss': 0.387, 'grad_norm': 7.06454610824585, 'learning_rate': 3.290598290598291e-05, 'epoch': 0.34}\n",
      "{'loss': 0.4425, 'grad_norm': 4.605499744415283, 'learning_rate': 2.863247863247863e-05, 'epoch': 0.43}\n",
      "{'loss': 0.3882, 'grad_norm': 6.7678141593933105, 'learning_rate': 2.435897435897436e-05, 'epoch': 0.51}\n",
      "{'loss': 0.4371, 'grad_norm': 4.30519962310791, 'learning_rate': 2.0085470085470087e-05, 'epoch': 0.6}\n",
      "{'loss': 0.4226, 'grad_norm': 4.878062725067139, 'learning_rate': 1.581196581196581e-05, 'epoch': 0.68}\n",
      "{'loss': 0.4082, 'grad_norm': 5.265462875366211, 'learning_rate': 1.153846153846154e-05, 'epoch': 0.77}\n",
      "{'loss': 0.4114, 'grad_norm': 3.8538315296173096, 'learning_rate': 7.264957264957266e-06, 'epoch': 0.85}\n",
      "{'loss': 0.4422, 'grad_norm': 5.567452430725098, 'learning_rate': 2.991452991452992e-06, 'epoch': 0.94}\n"
     ]
    },
    {
     "data": {
      "application/vnd.jupyter.widget-view+json": {
       "model_id": "f5b62d321cb3479cb558642c8e271876",
       "version_major": 2,
       "version_minor": 0
      },
      "text/plain": [
       "  0%|          | 0/59 [00:00<?, ?it/s]"
      ]
     },
     "metadata": {},
     "output_type": "display_data"
    },
    {
     "name": "stdout",
     "output_type": "stream",
     "text": [
      "{'eval_loss': 0.3937140703201294, 'eval_accuracy': 0.8283342260310659, 'eval_runtime': 5.327, 'eval_samples_per_second': 700.955, 'eval_steps_per_second': 11.076, 'epoch': 1.0}\n",
      "{'train_runtime': 44.6648, 'train_samples_per_second': 167.156, 'train_steps_per_second': 2.62, 'train_loss': 0.40324022015954697, 'epoch': 1.0}\n"
     ]
    },
    {
     "data": {
      "application/vnd.jupyter.widget-view+json": {
       "model_id": "a5ac24be2fe1439db1480c96ed54ed49",
       "version_major": 2,
       "version_minor": 0
      },
      "text/plain": [
       "  0%|          | 0/59 [00:00<?, ?it/s]"
      ]
     },
     "metadata": {},
     "output_type": "display_data"
    },
    {
     "data": {
      "application/vnd.jupyter.widget-view+json": {
       "model_id": "9bb1429c88164068945caaf5a07d227f",
       "version_major": 2,
       "version_minor": 0
      },
      "text/plain": [
       "  0%|          | 0/117 [00:00<?, ?it/s]"
      ]
     },
     "metadata": {},
     "output_type": "display_data"
    },
    {
     "name": "stdout",
     "output_type": "stream",
     "text": [
      "{'loss': 0.3246, 'grad_norm': 15.84599781036377, 'learning_rate': 4.572649572649573e-05, 'epoch': 0.09}\n",
      "{'loss': 0.3456, 'grad_norm': 5.808497905731201, 'learning_rate': 4.145299145299146e-05, 'epoch': 0.17}\n",
      "{'loss': 0.3772, 'grad_norm': 7.807981014251709, 'learning_rate': 3.717948717948718e-05, 'epoch': 0.26}\n",
      "{'loss': 0.3896, 'grad_norm': 9.536588668823242, 'learning_rate': 3.290598290598291e-05, 'epoch': 0.34}\n",
      "{'loss': 0.3502, 'grad_norm': 5.550105571746826, 'learning_rate': 2.863247863247863e-05, 'epoch': 0.43}\n",
      "{'loss': 0.3083, 'grad_norm': 6.038416385650635, 'learning_rate': 2.435897435897436e-05, 'epoch': 0.51}\n",
      "{'loss': 0.3522, 'grad_norm': 7.605138778686523, 'learning_rate': 2.0085470085470087e-05, 'epoch': 0.6}\n",
      "{'loss': 0.3807, 'grad_norm': 6.999648094177246, 'learning_rate': 1.581196581196581e-05, 'epoch': 0.68}\n",
      "{'loss': 0.4359, 'grad_norm': 5.13873815536499, 'learning_rate': 1.153846153846154e-05, 'epoch': 0.77}\n",
      "{'loss': 0.3967, 'grad_norm': 4.529337406158447, 'learning_rate': 7.264957264957266e-06, 'epoch': 0.85}\n",
      "{'loss': 0.3986, 'grad_norm': 4.642045497894287, 'learning_rate': 2.991452991452992e-06, 'epoch': 0.94}\n"
     ]
    },
    {
     "data": {
      "application/vnd.jupyter.widget-view+json": {
       "model_id": "58e331007a234d229bc0b886ce5dd624",
       "version_major": 2,
       "version_minor": 0
      },
      "text/plain": [
       "  0%|          | 0/59 [00:00<?, ?it/s]"
      ]
     },
     "metadata": {},
     "output_type": "display_data"
    },
    {
     "name": "stdout",
     "output_type": "stream",
     "text": [
      "{'eval_loss': 0.30749717354774475, 'eval_accuracy': 0.8762389499062416, 'eval_runtime': 5.3845, 'eval_samples_per_second': 693.287, 'eval_steps_per_second': 10.957, 'epoch': 1.0}\n",
      "{'train_runtime': 43.0559, 'train_samples_per_second': 173.426, 'train_steps_per_second': 2.717, 'train_loss': 0.3667229648329254, 'epoch': 1.0}\n"
     ]
    },
    {
     "data": {
      "application/vnd.jupyter.widget-view+json": {
       "model_id": "4b1f3eb504724108a6f560d81dd2e841",
       "version_major": 2,
       "version_minor": 0
      },
      "text/plain": [
       "  0%|          | 0/59 [00:00<?, ?it/s]"
      ]
     },
     "metadata": {},
     "output_type": "display_data"
    },
    {
     "data": {
      "application/vnd.jupyter.widget-view+json": {
       "model_id": "69737ff0c34245f2ad0e6331ed75def7",
       "version_major": 2,
       "version_minor": 0
      },
      "text/plain": [
       "  0%|          | 0/117 [00:00<?, ?it/s]"
      ]
     },
     "metadata": {},
     "output_type": "display_data"
    },
    {
     "name": "stdout",
     "output_type": "stream",
     "text": [
      "{'loss': 0.3031, 'grad_norm': 5.160166263580322, 'learning_rate': 4.572649572649573e-05, 'epoch': 0.09}\n",
      "{'loss': 0.2595, 'grad_norm': 7.809370994567871, 'learning_rate': 4.145299145299146e-05, 'epoch': 0.17}\n",
      "{'loss': 0.335, 'grad_norm': 5.361300468444824, 'learning_rate': 3.717948717948718e-05, 'epoch': 0.26}\n",
      "{'loss': 0.3675, 'grad_norm': 5.567443370819092, 'learning_rate': 3.290598290598291e-05, 'epoch': 0.34}\n",
      "{'loss': 0.3056, 'grad_norm': 4.339099407196045, 'learning_rate': 2.863247863247863e-05, 'epoch': 0.43}\n",
      "{'loss': 0.3296, 'grad_norm': 7.752760887145996, 'learning_rate': 2.435897435897436e-05, 'epoch': 0.51}\n",
      "{'loss': 0.3454, 'grad_norm': 9.614545822143555, 'learning_rate': 2.0085470085470087e-05, 'epoch': 0.6}\n",
      "{'loss': 0.3248, 'grad_norm': 8.783266067504883, 'learning_rate': 1.581196581196581e-05, 'epoch': 0.68}\n",
      "{'loss': 0.3515, 'grad_norm': 7.46834135055542, 'learning_rate': 1.153846153846154e-05, 'epoch': 0.77}\n",
      "{'loss': 0.3126, 'grad_norm': 6.667002201080322, 'learning_rate': 7.264957264957266e-06, 'epoch': 0.85}\n",
      "{'loss': 0.3346, 'grad_norm': 5.990417003631592, 'learning_rate': 2.991452991452992e-06, 'epoch': 0.94}\n"
     ]
    },
    {
     "data": {
      "application/vnd.jupyter.widget-view+json": {
       "model_id": "bfc60a6e316041869ed4ea6c4ae1349b",
       "version_major": 2,
       "version_minor": 0
      },
      "text/plain": [
       "  0%|          | 0/59 [00:00<?, ?it/s]"
      ]
     },
     "metadata": {},
     "output_type": "display_data"
    },
    {
     "name": "stdout",
     "output_type": "stream",
     "text": [
      "{'eval_loss': 0.226349875330925, 'eval_accuracy': 0.9174926332708278, 'eval_runtime': 5.8111, 'eval_samples_per_second': 642.393, 'eval_steps_per_second': 10.153, 'epoch': 1.0}\n",
      "{'train_runtime': 44.6888, 'train_samples_per_second': 167.089, 'train_steps_per_second': 2.618, 'train_loss': 0.3230963221981994, 'epoch': 1.0}\n"
     ]
    },
    {
     "data": {
      "application/vnd.jupyter.widget-view+json": {
       "model_id": "1917e1d7f7b04ad0985a9b5173d12855",
       "version_major": 2,
       "version_minor": 0
      },
      "text/plain": [
       "  0%|          | 0/59 [00:00<?, ?it/s]"
      ]
     },
     "metadata": {},
     "output_type": "display_data"
    },
    {
     "name": "stderr",
     "output_type": "stream",
     "text": [
      "2024/10/22 00:48:06 INFO mlflow.tracking._tracking_service.client: 🏃 View run intelligent-gnat-906 at: http://127.0.0.1:8080/#/experiments/778457007112658367/runs/62078c9e147747359b958f0b08cfa6d5.\n",
      "2024/10/22 00:48:06 INFO mlflow.tracking._tracking_service.client: 🧪 View experiment at: http://127.0.0.1:8080/#/experiments/778457007112658367.\n",
      "2024/10/22 00:48:06 INFO mlflow.tracking._tracking_service.client: 🏃 View run thoughtful-dog-776 at: http://127.0.0.1:8080/#/experiments/778457007112658367/runs/6e05fbc1840b4cfd93e80cec30ac5452.\n",
      "2024/10/22 00:48:06 INFO mlflow.tracking._tracking_service.client: 🧪 View experiment at: http://127.0.0.1:8080/#/experiments/778457007112658367.\n",
      "2024/10/22 00:48:07 INFO mlflow.tracking._tracking_service.client: 🏃 View run Fine Tuning Bert at: http://127.0.0.1:8080/#/experiments/778457007112658367/runs/8be2c943ce074c63a18f3e6b5667d0a9.\n",
      "2024/10/22 00:48:07 INFO mlflow.tracking._tracking_service.client: 🧪 View experiment at: http://127.0.0.1:8080/#/experiments/778457007112658367.\n"
     ]
    }
   ],
   "source": [
    "# Paramètres à tester\n",
    "params = {\"model_name\": \"nlptown/bert-base-multilingual-uncased-sentiment\",\n",
    "          \"learning_rates\": [1e-5, 5e-5],\n",
    "          \"batch_sizes\": [64],\n",
    "          \"num_epochs\": 1 \n",
    "        }\n",
    "\n",
    "run_name=\"Fine Tuning Bert\"\n",
    "track_model_training(BertTransformer, split_brut_datas, params, \"fine_tuning_bert\", run_name)"
   ]
  }
 ],
 "metadata": {
  "kernelspec": {
   "display_name": "Python 3",
   "language": "python",
   "name": "python3"
  },
  "language_info": {
   "codemirror_mode": {
    "name": "ipython",
    "version": 3
   },
   "file_extension": ".py",
   "mimetype": "text/x-python",
   "name": "python",
   "nbconvert_exporter": "python",
   "pygments_lexer": "ipython3",
   "version": "3.12.2"
  }
 },
 "nbformat": 4,
 "nbformat_minor": 2
}
